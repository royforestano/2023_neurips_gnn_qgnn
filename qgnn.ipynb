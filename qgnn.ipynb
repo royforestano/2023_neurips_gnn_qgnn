{
  "cells": [
    {
      "cell_type": "markdown",
      "metadata": {
        "id": "9949750b"
      },
      "source": [
        "# Quantum Graph Neural Networks (QGNNs)\n",
        "\n",
        "- Verdon, G., McCourt, T., Luzhnica, E., Singh, V., Leichenauer, S., & Hidary, J. (2019). Quantum Graph Neural Networks. arXiv preprint arXiv:1909.12264. https://arxiv.org/abs/1909.12264\n",
        "- Equivariant Quantum Graph Circuits: https://arxiv.org/abs/2112.05261\n",
        "- Equivariant quantum circuits for learning on weighted graphs: https://www.nature.com/articles/s41534-023-00710-y\n",
        "- All you need is spin: SU(2) equivariant variational quantum circuits based on spin networks: https://arxiv.org/abs/2309.07250\n",
        "- Benchmarking variational quantum circuits with permutation symmetry: https://arxiv.org/pdf/2211.12711.pdf\n",
        "\n",
        "A classical GNN maps a given graph structure into a lower dimensional vector space with characteristic features assigned to nodes and edges. This representation should preserve the topological graph structure, i.e. which nodes are connected, along with the deterministic features of the nodes and attributes of the edges. In the quantum graph structure, classical nodes can be mapped to quantum states, features to the characteristics of the states, edges to the interactions between states, and edge attributes to the strength of the interactions between the quantum states which form the graph. The larger structure of a classical model can then be embedded into the Hamiltonian operator you choose to act on the specified quantum states within the graph which will ultimately determine the dynamics and final state of the quantum algorithm."
      ],
      "id": "9949750b"
    },
    {
      "cell_type": "markdown",
      "metadata": {
        "id": "c748d29b"
      },
      "source": [
        "## Import Packages and Device"
      ],
      "id": "c748d29b"
    },
    {
      "cell_type": "code",
      "execution_count": 57,
      "metadata": {
        "colab": {
          "base_uri": "https://localhost:8080/"
        },
        "id": "QTdxLN4rR-k7",
        "outputId": "bd08fdd4-c5a2-4e82-969f-8fa37abd7bf6"
      },
      "outputs": [
        {
          "output_type": "stream",
          "name": "stdout",
          "text": [
            "shell-init: error retrieving current directory: getcwd: cannot access parent directories: Transport endpoint is not connected\n",
            "/bin/bash: line 1: nvidia-smi: command not found\n"
          ]
        }
      ],
      "source": [
        "gpu_info = !nvidia-smi\n",
        "gpu_info = '\\n'.join(gpu_info)\n",
        "if gpu_info.find('failed') >= 0:\n",
        "  print('Not connected to a GPU')\n",
        "else:\n",
        "  print(gpu_info)"
      ],
      "id": "QTdxLN4rR-k7"
    },
    {
      "cell_type": "code",
      "execution_count": 58,
      "metadata": {
        "colab": {
          "base_uri": "https://localhost:8080/"
        },
        "id": "4QsUJjX4R_a1",
        "outputId": "082b1227-9741-41fd-8c1a-daf376e4adaf"
      },
      "outputs": [
        {
          "output_type": "stream",
          "name": "stdout",
          "text": [
            "shell-init: error retrieving current directory: getcwd: cannot access parent directories: Transport endpoint is not connected\n",
            "shell-init: error retrieving current directory: getcwd: cannot access parent directories: Transport endpoint is not connected\n",
            "Traceback (most recent call last):\n",
            "  File \"/usr/local/bin/pip3\", line 5, in <module>\n",
            "    from pip._internal.cli.main import main\n",
            "  File \"/usr/local/lib/python3.10/dist-packages/pip/_internal/cli/main.py\", line 10, in <module>\n",
            "    from pip._internal.cli.autocompletion import autocomplete\n",
            "  File \"/usr/local/lib/python3.10/dist-packages/pip/_internal/cli/autocompletion.py\", line 10, in <module>\n",
            "    from pip._internal.cli.main_parser import create_main_parser\n",
            "  File \"/usr/local/lib/python3.10/dist-packages/pip/_internal/cli/main_parser.py\", line 9, in <module>\n",
            "    from pip._internal.build_env import get_runnable_pip\n",
            "  File \"/usr/local/lib/python3.10/dist-packages/pip/_internal/build_env.py\", line 19, in <module>\n",
            "    from pip._internal.cli.spinners import open_spinner\n",
            "  File \"/usr/local/lib/python3.10/dist-packages/pip/_internal/cli/spinners.py\", line 9, in <module>\n",
            "    from pip._internal.utils.logging import get_indentation\n",
            "  File \"/usr/local/lib/python3.10/dist-packages/pip/_internal/utils/logging.py\", line 13, in <module>\n",
            "    from pip._vendor.rich.console import (\n",
            "  File \"/usr/local/lib/python3.10/dist-packages/pip/_vendor/rich/__init__.py\", line 17, in <module>\n",
            "    _IMPORT_CWD = os.path.abspath(os.getcwd())\n",
            "OSError: [Errno 107] Transport endpoint is not connected\n",
            "shell-init: error retrieving current directory: getcwd: cannot access parent directories: Transport endpoint is not connected\n",
            "shell-init: error retrieving current directory: getcwd: cannot access parent directories: Transport endpoint is not connected\n",
            "Traceback (most recent call last):\n",
            "  File \"/usr/local/bin/pip3\", line 5, in <module>\n",
            "    from pip._internal.cli.main import main\n",
            "  File \"/usr/local/lib/python3.10/dist-packages/pip/_internal/cli/main.py\", line 10, in <module>\n",
            "    from pip._internal.cli.autocompletion import autocomplete\n",
            "  File \"/usr/local/lib/python3.10/dist-packages/pip/_internal/cli/autocompletion.py\", line 10, in <module>\n",
            "    from pip._internal.cli.main_parser import create_main_parser\n",
            "  File \"/usr/local/lib/python3.10/dist-packages/pip/_internal/cli/main_parser.py\", line 9, in <module>\n",
            "    from pip._internal.build_env import get_runnable_pip\n",
            "  File \"/usr/local/lib/python3.10/dist-packages/pip/_internal/build_env.py\", line 19, in <module>\n",
            "    from pip._internal.cli.spinners import open_spinner\n",
            "  File \"/usr/local/lib/python3.10/dist-packages/pip/_internal/cli/spinners.py\", line 9, in <module>\n",
            "    from pip._internal.utils.logging import get_indentation\n",
            "  File \"/usr/local/lib/python3.10/dist-packages/pip/_internal/utils/logging.py\", line 13, in <module>\n",
            "    from pip._vendor.rich.console import (\n",
            "  File \"/usr/local/lib/python3.10/dist-packages/pip/_vendor/rich/__init__.py\", line 17, in <module>\n",
            "    _IMPORT_CWD = os.path.abspath(os.getcwd())\n",
            "OSError: [Errno 107] Transport endpoint is not connected\n",
            "shell-init: error retrieving current directory: getcwd: cannot access parent directories: Transport endpoint is not connected\n",
            "shell-init: error retrieving current directory: getcwd: cannot access parent directories: Transport endpoint is not connected\n",
            "Traceback (most recent call last):\n",
            "  File \"/usr/local/bin/pip3\", line 5, in <module>\n",
            "    from pip._internal.cli.main import main\n",
            "  File \"/usr/local/lib/python3.10/dist-packages/pip/_internal/cli/main.py\", line 10, in <module>\n",
            "    from pip._internal.cli.autocompletion import autocomplete\n",
            "  File \"/usr/local/lib/python3.10/dist-packages/pip/_internal/cli/autocompletion.py\", line 10, in <module>\n",
            "    from pip._internal.cli.main_parser import create_main_parser\n",
            "  File \"/usr/local/lib/python3.10/dist-packages/pip/_internal/cli/main_parser.py\", line 9, in <module>\n",
            "    from pip._internal.build_env import get_runnable_pip\n",
            "  File \"/usr/local/lib/python3.10/dist-packages/pip/_internal/build_env.py\", line 19, in <module>\n",
            "    from pip._internal.cli.spinners import open_spinner\n",
            "  File \"/usr/local/lib/python3.10/dist-packages/pip/_internal/cli/spinners.py\", line 9, in <module>\n",
            "    from pip._internal.utils.logging import get_indentation\n",
            "  File \"/usr/local/lib/python3.10/dist-packages/pip/_internal/utils/logging.py\", line 13, in <module>\n",
            "    from pip._vendor.rich.console import (\n",
            "  File \"/usr/local/lib/python3.10/dist-packages/pip/_vendor/rich/__init__.py\", line 17, in <module>\n",
            "    _IMPORT_CWD = os.path.abspath(os.getcwd())\n",
            "OSError: [Errno 107] Transport endpoint is not connected\n"
          ]
        }
      ],
      "source": [
        "!pip install particle\n",
        "!pip install pennylane\n",
        "!pip install torch_geometric"
      ],
      "id": "4QsUJjX4R_a1"
    },
    {
      "cell_type": "code",
      "execution_count": 59,
      "metadata": {
        "colab": {
          "base_uri": "https://localhost:8080/"
        },
        "id": "gg7YlpRkXWXY",
        "outputId": "83a6dfd4-93c9-49f3-8ff7-cbdec9ae740b"
      },
      "outputs": [
        {
          "output_type": "stream",
          "name": "stdout",
          "text": [
            "Drive already mounted at /content/drive; to attempt to forcibly remount, call drive.mount(\"/content/drive\", force_remount=True).\n"
          ]
        }
      ],
      "source": [
        "from google.colab import drive\n",
        "drive.mount('/content/drive')"
      ],
      "id": "gg7YlpRkXWXY"
    },
    {
      "cell_type": "code",
      "execution_count": 60,
      "metadata": {
        "colab": {
          "base_uri": "https://localhost:8080/"
        },
        "id": "904XEib2XZQP",
        "outputId": "422b93aa-6161-48f4-ae2f-c8e1cc775124"
      },
      "outputs": [
        {
          "output_type": "stream",
          "name": "stdout",
          "text": [
            "/content/drive/MyDrive/research/gsoc/2023_gsoc\n"
          ]
        }
      ],
      "source": [
        "import os\n",
        "path = '/content/drive/MyDrive/research/'\n",
        "directory = path\n",
        "os.chdir(directory)\n",
        "print(os.getcwd())"
      ],
      "id": "904XEib2XZQP"
    },
    {
      "cell_type": "code",
      "execution_count": 61,
      "metadata": {
        "colab": {
          "base_uri": "https://localhost:8080/"
        },
        "id": "13dfca3b",
        "outputId": "93ab7a2e-0dde-4d64-d7b2-d2bc7a2a3c6a"
      },
      "outputs": [
        {
          "output_type": "stream",
          "name": "stdout",
          "text": [
            "Device:  cpu\n"
          ]
        },
        {
          "output_type": "execute_result",
          "data": {
            "text/plain": [
              "<torch._C.Generator at 0x7e4a2cfb7c50>"
            ]
          },
          "metadata": {},
          "execution_count": 61
        }
      ],
      "source": [
        "import pennylane as qml\n",
        "from pennylane import numpy as np\n",
        "import matplotlib.pyplot as plt\n",
        "import scipy\n",
        "import networkx as nx\n",
        "import copy\n",
        "import random\n",
        "\n",
        "# from numpy.random import default_rng\n",
        "import pandas as pd\n",
        "from tqdm import tqdm\n",
        "from time import time\n",
        "import os\n",
        "import copy\n",
        "from particle import Particle\n",
        "# from sklearn.model_selection import train_test_split\n",
        "from gnn_egnn.preprocess import *\n",
        "\n",
        "import torch\n",
        "from torch import nn as nn\n",
        "# from torch.utils.data import TensorDataset, DataLoader, Dataset\n",
        "from torchvision import datasets\n",
        "from torchvision.transforms import ToTensor\n",
        "from torch.nn import Linear\n",
        "import torch.nn.functional as F\n",
        "from scipy import stats\n",
        "from sklearn.metrics import roc_curve, roc_auc_score\n",
        "\n",
        "\n",
        "from torch_geometric.data import Data\n",
        "from torch_geometric.loader import DataLoader\n",
        "from torch_geometric.data import Dataset, InMemoryDataset, download_url\n",
        "# from torch_geometric.nn import GCNConv\n",
        "# from torch_geometric.nn import GATConv\n",
        "# from torch_geometric.nn import Sequential\n",
        "# from torch_geometric import nn\n",
        "# from torch_geometric.nn import global_mean_pool\n",
        "\n",
        "\n",
        "torch.set_default_dtype(torch.float64)\n",
        "device = \"cuda\" if torch.cuda.is_available() else \"cpu\"\n",
        "print('Device: ',device)\n",
        "\n",
        "np.random.seed(0)\n",
        "torch.manual_seed(0)"
      ],
      "id": "13dfca3b"
    },
    {
      "cell_type": "markdown",
      "metadata": {
        "id": "a088af02"
      },
      "source": [
        "## Load Data"
      ],
      "id": "a088af02"
    },
    {
      "cell_type": "code",
      "execution_count": 62,
      "metadata": {
        "id": "9cdff064"
      },
      "outputs": [],
      "source": [
        "path = 'data/'\n",
        "plot_path = 'plots/'"
      ],
      "id": "9cdff064"
    },
    {
      "cell_type": "markdown",
      "metadata": {
        "id": "c4d16dc9"
      },
      "source": [
        "## Preprocess data"
      ],
      "id": "c4d16dc9"
    },
    {
      "cell_type": "code",
      "execution_count": 63,
      "metadata": {
        "id": "7346194b-2120-48d7-bd08-95c0eba5bdd8"
      },
      "outputs": [],
      "source": [
        "N=12500\n",
        "x10_sorted_12500 = np.load(path+'x10_sorted_12500.npy')[:N]\n",
        "y10_sorted_12500 = np.load(path+'y10_sorted_12500.npy')[:N]"
      ],
      "id": "7346194b-2120-48d7-bd08-95c0eba5bdd8"
    },
    {
      "cell_type": "code",
      "execution_count": 64,
      "metadata": {
        "colab": {
          "base_uri": "https://localhost:8080/"
        },
        "id": "29278f98-0eee-4144-a69c-7f039cbeb7ea",
        "outputId": "c272b18b-f8cb-4df8-d03a-b244aa123d14"
      },
      "outputs": [
        {
          "output_type": "stream",
          "name": "stdout",
          "text": [
            "--- Finding All Unique Particles ---\n",
            "\n",
            "--- Inserting Masses ---\n"
          ]
        },
        {
          "output_type": "stream",
          "name": "stderr",
          "text": [
            "14it [00:00, 1279.50it/s]\n"
          ]
        },
        {
          "output_type": "stream",
          "name": "stdout",
          "text": [
            "\n",
            "--- Calculating Momenta and Energies ---\n",
            "\n",
            "--- Calculating Edge Tensors ---\n"
          ]
        },
        {
          "output_type": "stream",
          "name": "stderr",
          "text": [
            "100%|██████████| 12500/12500 [00:05<00:00, 2423.50it/s]\n"
          ]
        },
        {
          "output_type": "stream",
          "name": "stdout",
          "text": [
            "\n",
            "--- Calculating Quantum Hamiltonians ---\n"
          ]
        },
        {
          "output_type": "stream",
          "name": "stderr",
          "text": [
            "100%|██████████| 12500/12500 [00:49<00:00, 252.08it/s]\n"
          ]
        }
      ],
      "source": [
        "nodes_per_graph = 3\n",
        "x_data_proc, y_data_proc, edge_tensor, edge_indx_tensor, edge_attr_matrix, graph_help, quantum_hamiltonians = preprocess_fixed_nodes_quantum(x10_sorted_12500,y10_sorted_12500,nodes_per_graph = nodes_per_graph) #,masses[:N])\n",
        "N = x_data_proc.shape[0]"
      ],
      "id": "29278f98-0eee-4144-a69c-7f039cbeb7ea"
    },
    {
      "cell_type": "code",
      "execution_count": 65,
      "metadata": {
        "colab": {
          "base_uri": "https://localhost:8080/"
        },
        "id": "bcb70d25",
        "outputId": "b11b997f-72c5-4f82-f85f-473190d8d572"
      },
      "outputs": [
        {
          "output_type": "stream",
          "name": "stdout",
          "text": [
            "----- Check for the correctly sized tensors -----\n",
            "\n",
            "Jet Data: torch.Size([12500, 3, 8])\n",
            "Classification: torch.Size([12500])\n",
            "Full Edge Information: torch.Size([12500, 3, 3])\n",
            "Edge Index Information: torch.Size([12500, 2, 6])\n",
            "Edge Attribute Information: torch.Size([12500, 6, 1])\n",
            "Graph Structure Information: torch.Size([12500, 4])\n",
            "Quantum Information: torch.Size([12500, 2, 8, 8])\n",
            "\n",
            "\n",
            "----- Check that each tensor is normalized -----\n",
            "\n",
            "Jet Data max: 1.0\n",
            "Classification Max: 1\n",
            "Edge Length Max: 1.0\n"
          ]
        }
      ],
      "source": [
        "print('----- Check for the correctly sized tensors -----')\n",
        "print()\n",
        "print(f'Jet Data: {x_data_proc.shape}')\n",
        "print(f'Classification: {y_data_proc.shape}')\n",
        "print(f'Full Edge Information: {edge_tensor.shape}')\n",
        "print(f'Edge Index Information: {edge_indx_tensor.shape}')\n",
        "print(f'Edge Attribute Information: {edge_attr_matrix.shape}')\n",
        "print(f'Graph Structure Information: {graph_help.shape}')\n",
        "print(f'Quantum Information: {quantum_hamiltonians.shape}')\n",
        "print('\\n')\n",
        "print('----- Check that each tensor is normalized -----')\n",
        "print()\n",
        "print(f'Jet Data max: {torch.max(x_data_proc)}')\n",
        "print(f'Classification Max: {torch.max(y_data_proc)}')\n",
        "print(f'Edge Length Max: {torch.max(edge_tensor)}')"
      ],
      "id": "bcb70d25"
    },
    {
      "cell_type": "code",
      "execution_count": 66,
      "metadata": {
        "colab": {
          "base_uri": "https://localhost:8080/"
        },
        "id": "eb2a26a3",
        "outputId": "3012c524-8c61-4f13-ce1d-7ce2dc02697d",
        "scrolled": true
      },
      "outputs": [
        {
          "output_type": "stream",
          "name": "stdout",
          "text": [
            "----- Check the structure of the dataset -----\n",
            "\n",
            "Number of graphs (jets): 12500\n",
            "Number of features per node (p_T(M),y,phi,m,E,px,py,pz): 8\n",
            "Number of classes (2: Quarks or Gluons): 2\n",
            "\n",
            "----- Check the structure of one graph -----\n",
            "\n",
            "Number of nodes (particle IDs): 3\n",
            "Number of edges: 6.0\n",
            "Average node degree: 2.00\n",
            "Is undirected: True\n"
          ]
        }
      ],
      "source": [
        "print('----- Check the structure of the dataset -----')\n",
        "print()\n",
        "print(f'Number of graphs (jets): {x_data_proc.shape[0]}')\n",
        "print(r'Number of features per node (p_T(M),y,phi,m,E,px,py,pz): '+f'{x_data_proc.shape[2]}')\n",
        "print(f'Number of classes (2: Quarks or Gluons): {np.unique(y_data_proc).shape[0]}')\n",
        "print()\n",
        "print('----- Check the structure of one graph -----')\n",
        "print()\n",
        "i=0\n",
        "number_of_edges = graph_help[i,3]\n",
        "# Gather some statistics about the first graph.\n",
        "print(f'Number of nodes (particle IDs): {x_data_proc[i,:,0].shape[0]}')\n",
        "print(f'Number of edges: {number_of_edges}')\n",
        "print(f'Average node degree: {number_of_edges / x_data_proc[i,:,0].shape[0]:.2f}')\n",
        "print(f'Is undirected: {True}')"
      ],
      "id": "eb2a26a3"
    },
    {
      "cell_type": "code",
      "execution_count": 67,
      "metadata": {
        "id": "98e1abc0"
      },
      "outputs": [],
      "source": [
        "# Create a dataset class\n",
        "class Create_Dataset(Dataset):\n",
        "    def __init__(self, edge_index, x, edge_attr, y, graph_info, hamiltonians, transform=None):\n",
        "        self.edge_index = edge_index\n",
        "        self.x          = x\n",
        "        self.edge_attr  = edge_attr\n",
        "        self.y          = y\n",
        "        self.graph_info = graph_info\n",
        "        self.hamiltonians = hamiltonians\n",
        "        self.transform  = transform\n",
        "\n",
        "    def __len__(self):\n",
        "        return self.y.shape[0]\n",
        "\n",
        "    # Could also just define an x,y,z then pass these variables\n",
        "    # in the training functions over the loop for batch (actually think that way is easier to read)\n",
        "    def __getitem__(self, index):\n",
        "        sample = {'edge_index': self.edge_index[index,:,:], #self.graph_info[index,3]],\n",
        "                'x': self.x[index,:,:], #int(self.graph_info[index,2]),:],\n",
        "                'edge_attr': self.edge_attr[index,:], #self.graph_info[index,3]],\n",
        "                'hams': self.hamiltonians[index,:,:,:],\n",
        "                'y': self.y[index]  }\n",
        "\n",
        "        if self.transform is not None:\n",
        "            sample = self.transform(sample)\n",
        "\n",
        "        return sample"
      ],
      "id": "98e1abc0"
    },
    {
      "cell_type": "code",
      "execution_count": 68,
      "metadata": {
        "colab": {
          "base_uri": "https://localhost:8080/"
        },
        "id": "6595d28a",
        "outputId": "0eadb927-cefb-4114-beb9-9fbaed4471ac"
      },
      "outputs": [
        {
          "output_type": "stream",
          "name": "stderr",
          "text": [
            "100%|██████████| 12500/12500 [00:01<00:00, 8764.52it/s]"
          ]
        },
        {
          "output_type": "stream",
          "name": "stdout",
          "text": [
            "Number of training graphs: 10000\n",
            "Number of validation graphs: 1250\n",
            "Number of test graphs: 1250\n"
          ]
        },
        {
          "output_type": "stream",
          "name": "stderr",
          "text": [
            "\n"
          ]
        }
      ],
      "source": [
        "train_index   = int(N*0.8)\n",
        "val_index    = int(N*0.9)\n",
        "batch_size = 1\n",
        "\n",
        "# Create Datasets for Torch for the training and testing pahses\n",
        "dataset = []\n",
        "for i in tqdm(range(N)):\n",
        "    dataset.append(Data(edge_index=edge_indx_tensor[i,:,:int(graph_help[i,3])],\n",
        "                        x=x_data_proc[i,:int(graph_help[i,2]),:],\n",
        "                        edge_attr=edge_attr_matrix[i,:int(graph_help[i,3])],\n",
        "                        y=y_data_proc[i],\n",
        "                        pos = quantum_hamiltonians[i,:]))\n",
        "\n",
        "training_data = dataset[:train_index]\n",
        "val_data      = dataset[train_index:val_index]\n",
        "test_data     = dataset[val_index:]\n",
        "# Create data loaders\n",
        "train_quantum_dataloader = DataLoader(training_data,\n",
        "                              batch_size = batch_size,\n",
        "                              shuffle = True,\n",
        "                              num_workers = 0)\n",
        "\n",
        "val_quantum_dataloader  = DataLoader(val_data,\n",
        "                              batch_size = batch_size,\n",
        "                              shuffle = False,\n",
        "                              num_workers = 0)\n",
        "\n",
        "test_quantum_dataloader  = DataLoader(test_data,\n",
        "                              batch_size = batch_size,\n",
        "                              shuffle = False,\n",
        "                              num_workers = 0)\n",
        "\n",
        "print(f'Number of training graphs: {train_index}')\n",
        "print(f'Number of validation graphs: {val_index-train_index}')\n",
        "print(f'Number of test graphs: {N-val_index}')"
      ],
      "id": "6595d28a"
    },
    {
      "cell_type": "code",
      "execution_count": 69,
      "metadata": {
        "colab": {
          "base_uri": "https://localhost:8080/"
        },
        "id": "e13f2422",
        "outputId": "bac6a2ca-38bf-4280-b390-1848d22faf7d"
      },
      "outputs": [
        {
          "output_type": "stream",
          "name": "stdout",
          "text": [
            "Using cpu device\n"
          ]
        }
      ],
      "source": [
        "# Get cpu or gpu device for training.\n",
        "device = \"cuda\" if torch.cuda.is_available() else \"cpu\"\n",
        "print(f\"Using {device} device\")"
      ],
      "id": "e13f2422"
    },
    {
      "cell_type": "markdown",
      "metadata": {
        "id": "95f0cacf"
      },
      "source": [
        "# Quantum Graph Neural Network (QGNN)"
      ],
      "id": "95f0cacf"
    },
    {
      "cell_type": "code",
      "execution_count": 70,
      "metadata": {
        "id": "717d36a7"
      },
      "outputs": [],
      "source": [
        "def get_distance(tuple1,tuple2):\n",
        "    return np.sqrt((tuple1[0]-tuple2[0])**2+(tuple1[1]-tuple2[1])**2)"
      ],
      "id": "717d36a7"
    },
    {
      "cell_type": "markdown",
      "metadata": {
        "id": "dd121397"
      },
      "source": [
        "Plot of chosen jets for clustering"
      ],
      "id": "dd121397"
    },
    {
      "cell_type": "code",
      "execution_count": 71,
      "metadata": {
        "colab": {
          "base_uri": "https://localhost:8080/",
          "height": 350
        },
        "id": "0f8139ef",
        "outputId": "462488cb-1719-450b-c65f-c8a985266107"
      },
      "outputs": [
        {
          "output_type": "execute_result",
          "data": {
            "text/plain": [
              "<matplotlib.legend.Legend at 0x7e4957c2dc00>"
            ]
          },
          "metadata": {},
          "execution_count": 71
        },
        {
          "output_type": "display_data",
          "data": {
            "text/plain": [
              "<Figure size 400x300 with 1 Axes>"
            ],
            "image/png": "[encoded data removed]"
          },
          "metadata": {}
        }
      ],
      "source": [
        "i=0\n",
        "j=1\n",
        "M = nodes_per_graph\n",
        "fig = plt.figure(figsize=(4,3))\n",
        "plt.scatter(x_data_proc[i,:,1],x_data_proc[i,:,2],c='r',s=10,label='Class '+str(y_data_proc[i].item()) ) #%(2*np.pi)\n",
        "plt.scatter(x_data_proc[j,:,1],x_data_proc[j,:,2],c='b',s=10,label='Class '+str(y_data_proc[j].item()) ) #%(2*np.pi)\n",
        "plt.title('Jet Cluster')\n",
        "plt.xlabel('Rapidity')\n",
        "plt.ylabel('Azimuthal Angle')\n",
        "plt.legend()"
      ],
      "id": "0f8139ef"
    },
    {
      "cell_type": "code",
      "execution_count": 72,
      "metadata": {
        "id": "fe79a33d"
      },
      "outputs": [],
      "source": [
        "i = 0\n",
        "pos = {j: (x_data_proc[i,j,1]%(2*np.pi), x_data_proc[i,j,2]%(2*np.pi)) for j in range(M)}\n",
        "make_jet_edges = [ (i,j) for i in pos for j in pos if i<j ]"
      ],
      "id": "fe79a33d"
    },
    {
      "cell_type": "code",
      "execution_count": 73,
      "metadata": {
        "id": "85bf4c82"
      },
      "outputs": [],
      "source": [
        "# number of qubits\n",
        "qubit_number = nodes_per_graph # M*2\n",
        "qubits = range(qubit_number)"
      ],
      "id": "85bf4c82"
    },
    {
      "cell_type": "code",
      "execution_count": 74,
      "metadata": {
        "colab": {
          "base_uri": "https://localhost:8080/"
        },
        "id": "ccf80b3b-7967-49cf-ac6a-4501d53e5135",
        "outputId": "d3059427-7396-4cc2-bc48-e19011709771"
      },
      "outputs": [
        {
          "output_type": "stream",
          "name": "stdout",
          "text": [
            "3\n"
          ]
        }
      ],
      "source": [
        "print(qubit_number)"
      ],
      "id": "ccf80b3b-7967-49cf-ac6a-4501d53e5135"
    },
    {
      "cell_type": "code",
      "execution_count": 75,
      "metadata": {
        "colab": {
          "base_uri": "https://localhost:8080/",
          "height": 406
        },
        "id": "ab62febd",
        "outputId": "d4ecc818-61b8-4ee0-caf9-d6eaf48c5b41"
      },
      "outputs": [
        {
          "output_type": "display_data",
          "data": {
            "text/plain": [
              "<Figure size 640x480 with 1 Axes>"
            ],
            "image/png": "[encoded data removed]"
          },
          "metadata": {}
        }
      ],
      "source": [
        "ising_graph = nx.DiGraph()\n",
        "ising_graph.add_nodes_from(pos)\n",
        "ising_graph.add_edges_from(make_jet_edges)\n",
        "nx.draw_networkx(ising_graph, pos, node_color='red', edgelist=make_jet_edges)"
      ],
      "id": "ab62febd"
    },
    {
      "cell_type": "code",
      "execution_count": 76,
      "metadata": {
        "id": "600a17b9"
      },
      "outputs": [],
      "source": [
        "term_dictionary = {0: [np.identity(2),np.identity(2)], 1: [qml.matrix(qml.PauliZ)(0), qml.matrix(qml.PauliZ)(0)]}"
      ],
      "id": "600a17b9"
    },
    {
      "cell_type": "code",
      "execution_count": 77,
      "metadata": {
        "id": "15bce22e-1a91-4c97-ba45-17c18bab6c47"
      },
      "outputs": [],
      "source": [
        "graph = dataset[0]"
      ],
      "id": "15bce22e-1a91-4c97-ba45-17c18bab6c47"
    },
    {
      "cell_type": "code",
      "execution_count": 78,
      "metadata": {
        "colab": {
          "base_uri": "https://localhost:8080/"
        },
        "id": "24aaa1d0",
        "outputId": "c46cfb0f-ff93-4a5e-dc48-2138a68e0f79"
      },
      "outputs": [
        {
          "output_type": "execute_result",
          "data": {
            "text/plain": [
              "torch.Size([2, 6])"
            ]
          },
          "metadata": {},
          "execution_count": 78
        }
      ],
      "source": [
        "graph.edge_index.shape"
      ],
      "id": "24aaa1d0"
    },
    {
      "cell_type": "code",
      "execution_count": 79,
      "metadata": {
        "colab": {
          "base_uri": "https://localhost:8080/"
        },
        "id": "e11c2345",
        "outputId": "29b828a6-dfed-4c8e-8f9f-37d5fbb87f70"
      },
      "outputs": [
        {
          "output_type": "execute_result",
          "data": {
            "text/plain": [
              "torch.Size([2, 6])"
            ]
          },
          "metadata": {},
          "execution_count": 79
        }
      ],
      "source": [
        "graph.edge_index.shape"
      ],
      "id": "e11c2345"
    },
    {
      "cell_type": "code",
      "execution_count": 80,
      "metadata": {
        "id": "8ba8b739"
      },
      "outputs": [],
      "source": [
        "def create_hamiltonian_matrix_interaction(graph,\n",
        "                              term_dictionary =  {0: [np.identity(2),np.identity(2)], 1: [qml.matrix(qml.PauliZ)(0), qml.matrix(qml.PauliZ)(0)]}):\n",
        "    # n_qubits == number of nodes in graph\n",
        "    # graph == Data frame\n",
        "    # weights == edge_attr\n",
        "    n_qubits = graph.x.shape[0]\n",
        "    full_matrix = np.zeros((2 ** n_qubits, 2 ** n_qubits))\n",
        "    # Creates the interaction component of the Hamiltonian\n",
        "    weights = graph.edge_attr\n",
        "    fraction = 1./4.\n",
        "    number_of_terms = len(term_dictionary)\n",
        "    for term in range(number_of_terms):\n",
        "        for i, edge in enumerate(graph.edge_index.T):\n",
        "            interaction_term = 1\n",
        "            for qubit in range(n_qubits):\n",
        "                if qubit in edge:\n",
        "                    if qubit==edge[0]:\n",
        "                        interaction_term = np.kron(interaction_term, term_dictionary[term][0] )\n",
        "                    elif qubit==edge[1]:\n",
        "                        interaction_term = np.kron(interaction_term, term_dictionary[term][1] )\n",
        "                else:\n",
        "                    interaction_term = np.kron(interaction_term, np.identity(2) )\n",
        "\n",
        "        if np.all(term_dictionary[term][0]==qml.matrix(qml.PauliZ)(0)):\n",
        "            full_matrix += -fraction*weights[i].numpy()*interaction_term\n",
        "        else:\n",
        "            full_matrix +=  fraction*weights[i].numpy()*interaction_term\n",
        "    return full_matrix\n",
        "\n",
        "def create_hamiltonian_matrix_transverse(graph):\n",
        "    n_qubits = graph.x.shape[0]\n",
        "    full_matrix = np.zeros((2 ** n_qubits, 2 ** n_qubits))\n",
        "    # Creates the bias components of the matrix\n",
        "    for i in range(n_qubits):\n",
        "        x_term = 1\n",
        "        for j in range(n_qubits):\n",
        "            if j==i:\n",
        "                x_term = np.kron(x_term, qml.matrix(qml.PauliX)(0))\n",
        "            else:\n",
        "                x_term = np.kron(x_term, np.identity(2) )\n",
        "        full_matrix += x_term\n",
        "    return full_matrix"
      ],
      "id": "8ba8b739"
    },
    {
      "cell_type": "code",
      "execution_count": 81,
      "metadata": {
        "colab": {
          "base_uri": "https://localhost:8080/",
          "height": 443
        },
        "id": "fbda307b",
        "outputId": "6df24db9-4aa4-4276-8cb3-870fe09774cc"
      },
      "outputs": [
        {
          "output_type": "stream",
          "name": "stdout",
          "text": [
            "0.3062092257177721\n",
            "0.0\n"
          ]
        },
        {
          "output_type": "display_data",
          "data": {
            "text/plain": [
              "<Figure size 800x400 with 2 Axes>"
            ],
            "image/png": "[encoded data removed]"
          },
          "metadata": {}
        }
      ],
      "source": [
        "# Prints a visual representation of the Hamiltonian matrix\n",
        "ham_matrix = create_hamiltonian_matrix_interaction(graph = graph)\n",
        "plt.figure(figsize=(8,4))\n",
        "plt.imshow(ham_matrix, cmap=\"RdBu\",vmin=-np.max(ham_matrix),vmax=np.max(ham_matrix))\n",
        "plt.title('$H_C$',fontsize=25)\n",
        "plt.xticks(ticks = [i for i in range(2**qubit_number)], labels =  [i+1 for i in range(2**qubit_number)], fontsize=12)\n",
        "plt.yticks(ticks = [i for i in range(2**qubit_number)], labels =  [i+1 for i in range(2**qubit_number)], fontsize =12)\n",
        "cbar = plt.colorbar()\n",
        "# cbar.set_label(label='',size=25)\n",
        "cbar.ax.tick_params(labelsize=12)\n",
        "plt.savefig(plot_path+'hc.png',bbox_inches='tight')"
      ],
      "id": "fbda307b"
    },
    {
      "cell_type": "code",
      "execution_count": 82,
      "metadata": {
        "colab": {
          "base_uri": "https://localhost:8080/",
          "height": 409
        },
        "id": "0446a619-b293-4597-82e0-41cdfc98c8f2",
        "outputId": "72ecdbe1-0e19-44f2-9b72-25950daf79b4"
      },
      "outputs": [
        {
          "output_type": "display_data",
          "data": {
            "text/plain": [
              "<Figure size 800x400 with 2 Axes>"
            ],
            "image/png": "[encoded data removed]"
          },
          "metadata": {}
        }
      ],
      "source": [
        "# Prints a visual representation of the Hamiltonian matrix\n",
        "ham_matrix = create_hamiltonian_matrix_transverse(graph = graph)\n",
        "plt.figure(figsize=(8,4))\n",
        "plt.imshow(ham_matrix, cmap=\"RdBu\",vmin=-np.max(ham_matrix),vmax=np.max(ham_matrix))\n",
        "plt.title('$H_T$',fontsize=25)\n",
        "plt.xticks(ticks = [i for i in range(2**qubit_number)], labels =  [i+1 for i in range(2**qubit_number)], fontsize=12)\n",
        "plt.yticks(ticks = [i for i in range(2**qubit_number)], labels =  [i+1 for i in range(2**qubit_number)], fontsize =12)\n",
        "cbar = plt.colorbar()\n",
        "# cbar.set_label(label='',size=25)\n",
        "cbar.ax.tick_params(labelsize=12)\n",
        "plt.savefig(plot_path+'ht.png',bbox_inches='tight')"
      ],
      "id": "0446a619-b293-4597-82e0-41cdfc98c8f2"
    },
    {
      "cell_type": "markdown",
      "metadata": {
        "id": "dc50607f"
      },
      "source": [
        "# Quantum Graph Neural Network (QGNN)"
      ],
      "id": "dc50607f"
    },
    {
      "cell_type": "code",
      "execution_count": 83,
      "metadata": {
        "id": "71d3a02a"
      },
      "outputs": [],
      "source": [
        "reg1 = copy.copy([i for i in range(nodes_per_graph) ])  # load original graph"
      ],
      "id": "71d3a02a"
    },
    {
      "cell_type": "code",
      "execution_count": 84,
      "metadata": {
        "colab": {
          "base_uri": "https://localhost:8080/"
        },
        "id": "784cf491-3af4-461c-ac64-4a74aabb77de",
        "outputId": "c3a04cee-728a-462f-8c9b-d7cf31bf1e6c"
      },
      "outputs": [
        {
          "output_type": "execute_result",
          "data": {
            "text/plain": [
              "3"
            ]
          },
          "metadata": {},
          "execution_count": 84
        }
      ],
      "source": [
        "qubit_number"
      ],
      "id": "784cf491-3af4-461c-ac64-4a74aabb77de"
    },
    {
      "cell_type": "markdown",
      "metadata": {
        "id": "4l3Gg6iSKyBJ"
      },
      "source": [
        "## QGNN Layers"
      ],
      "id": "4l3Gg6iSKyBJ"
    },
    {
      "cell_type": "code",
      "execution_count": 85,
      "metadata": {
        "id": "kkMf05NdKwin"
      },
      "outputs": [],
      "source": [
        "def state_evolve(hamiltonian, qubits, eta, q):\n",
        "    U = torch.linalg.matrix_exp(-1j * eta * hamiltonian).cfloat()\n",
        "    U = q@U@q.T.conj()\n",
        "    qml.QubitUnitary(U, wires=qubits)\n",
        "\n",
        "def qgcnn(inputs,weights):\n",
        "    # ham_matrix1, ham_matrix2, tham_matrix1, tham_matrix2 = form_hamiltonians(graph1 = graphs[0], graph2 = graphs[1])\n",
        "    # Prepares the low energy state in the two registers\n",
        "    embedding_features = int(2**qubit_number)\n",
        "    low_energy_state = inputs[1,:embedding_features]\n",
        "    constant = torch.tensor([1.]).cfloat().to(device)\n",
        "    qml.QubitStateVector(torch.kron(low_energy_state,constant), wires=reg1)\n",
        "    # Evolves the first qubit register with the time-evolution circuit to\n",
        "    # prepare a piece of quantum data\n",
        "    inputs = inputs[0,:].reshape(batch_size,2,embedding_features,embedding_features)\n",
        "    if batch_size==1:\n",
        "        inputs = inputs.reshape(2,embedding_features,embedding_features)\n",
        "        coeffs = weights[:,:int(n_layers*2)].reshape(n_layers,2)\n",
        "        As = weights[:,int(n_layers*2):].reshape(n_layers,2,embedding_features,embedding_features)\n",
        "\n",
        "    for j in range(coeffs.shape[0]):\n",
        "      A = As[j,0,:,:].cfloat() + 1j*As[j,1,:,:].cfloat()\n",
        "      I = torch.eye(A.shape[0],dtype = torch.cfloat).to(device)\n",
        "      A = A + A.T.conj()\n",
        "      q = (A - 1j*I)@torch.linalg.inv(A + 1j*I)\n",
        "      if batch_size==1:\n",
        "          state_evolve(inputs[0,:,:],  reg1, coeffs[j,0], q )\n",
        "          state_evolve(inputs[1,:,:],  reg1, coeffs[j,1], q )\n",
        "      else:\n",
        "          state_evolve(inputs[:,0,:,:],  reg1, coeffs[j,0], q )\n",
        "          state_evolve(inputs[:,1,:,:],  reg1, coeffs[j,1], q )\n",
        "    return [qml.state()]\n",
        "\n",
        "# Define a custom complex activation function (nn.Module)\n",
        "class complex_activation(nn.Module):\n",
        "    def forward(self, x):\n",
        "        return nn.ReLU()(x.real) + 1.j * nn.ReLU()(x.imag)\n",
        "\n",
        "qgcnn_dev = qml.device('default.qubit', wires=qubit_number)#, shots=shots)\n",
        "# Defines the new QNode\n",
        "qgcnn_qnode = qml.QNode(qgcnn,\n",
        "                        device=qgcnn_dev,\n",
        "                        interface = 'torch', #,#interface='torch', #interface = 'autograd'\n",
        "                        diff_method='backprop')\n",
        "\n",
        "class eigs_fn_torch(nn.Module):\n",
        "    def forward(self, inputs, qstates_comp_basis):\n",
        "        # Compute rotation matrices and eigenvalues\n",
        "        qstates_comp_basis = qstates_comp_basis.flatten().cfloat()\n",
        "        qstates_density_matrix =  qstates_comp_basis@qstates_comp_basis.T\n",
        "        q,r = torch.linalg.qr(qstates_density_matrix)\n",
        "        coupling_ham = (inputs[0].reshape(2,int(2**nodes_per_graph),int(2**nodes_per_graph)) )[0,:,:].cfloat()\n",
        "        rotUC1 = q @ torch.linalg.matrix_exp( -1j * coupling_ham )\n",
        "        UC1eigs = torch.linalg.eigvals(rotUC1)\n",
        "        return qstates_comp_basis.reshape(1,qstates_comp_basis.shape[0]) #UC1eigs.reshape(1,UC1eigs.shape[0])\n",
        "\n",
        "class product_state(nn.Module):\n",
        "    def forward(self, qstates_comp_basis):\n",
        "        qstates_comp_basis = qstates_comp_basis.flatten().cfloat()\n",
        "        return qstates_comp_basis.reshape(1,qstates_comp_basis.shape[0])\n",
        "\n",
        "class construct_low_energy_state(nn.Module):\n",
        "    def forward(self, encoded_state):\n",
        "        term = torch.tensor([1.]).cfloat().to(device)\n",
        "        for i in range(encoded_state.shape[0]):\n",
        "            term = torch.kron(encoded_state[i,:],term)\n",
        "        normalize_factor = torch.sqrt(torch.abs(torch.conj(term)@term))\n",
        "        term = term/normalize_factor\n",
        "        return term"
      ],
      "id": "kkMf05NdKwin"
    },
    {
      "cell_type": "markdown",
      "metadata": {
        "id": "B4NQSo69K2Dv"
      },
      "source": [
        "## QGNN Model"
      ],
      "id": "B4NQSo69K2Dv"
    },
    {
      "cell_type": "code",
      "execution_count": 86,
      "metadata": {
        "id": "f61fbcac"
      },
      "outputs": [],
      "source": [
        "class quantum_iso_model(torch.nn.Module):\n",
        "    def __init__(self, weight_shapes):\n",
        "        super().__init__()\n",
        "        # self.weights = torch.nn.Parameter(torch.randn(n_layers, gamma_and_eta))\n",
        "        # self.transform = torch.nn.Identity()\n",
        "        self.encoder = nn.Sequential( nn.Linear(x_data_proc.shape[2], 16, dtype=torch.cfloat),\n",
        "                                      complex_activation(),\n",
        "                                      nn.Linear(16, 16, dtype=torch.cfloat),\n",
        "                                      complex_activation(),\n",
        "                                      nn.Linear(16, 2, dtype=torch.cfloat) )\n",
        "\n",
        "        self.qlayer = qml.qnn.TorchLayer(qgcnn_qnode, weight_shapes)\n",
        "        self.eigs   = eigs_fn_torch()\n",
        "        self.product_state = product_state()\n",
        "        self.state  = construct_low_energy_state()\n",
        "\n",
        "        self.decoder = nn.Sequential( nn.Linear(2**qubit_number, 5*2**qubit_number, dtype=torch.cfloat),\n",
        "                                      complex_activation(),\n",
        "                                      nn.Linear(5*2**qubit_number, 4*2**qubit_number, dtype=torch.cfloat),\n",
        "                                      complex_activation(),\n",
        "                                      nn.Linear(4*2**qubit_number, 2, dtype=torch.cfloat) )\n",
        "\n",
        "    def forward(self, inputs, features):\n",
        "        embedding = self.encoder(features)\n",
        "        initial_state = self.state(embedding)\n",
        "        initial_state = nn.functional.pad(initial_state, (0,inputs.shape[1]-initial_state.shape[0]), mode='constant', value=0)\n",
        "        x = self.qlayer(torch.vstack([inputs,initial_state]))\n",
        "        x = self.product_state(x)\n",
        "        h = self.decoder(x)\n",
        "        return (h*h.conj()).real"
      ],
      "id": "f61fbcac"
    },
    {
      "cell_type": "markdown",
      "metadata": {
        "id": "zXsuznrXJhD0"
      },
      "source": [
        "## QGNN Training Function"
      ],
      "id": "zXsuznrXJhD0"
    },
    {
      "cell_type": "code",
      "execution_count": 87,
      "metadata": {
        "id": "OHLv6mPqJe9g"
      },
      "outputs": [],
      "source": [
        "def quantum_training(train_dataloader,\n",
        "                     val_dataloader,\n",
        "                     epochs,\n",
        "                     loss_fn,\n",
        "                     model,\n",
        "                     optimizer):\n",
        "\n",
        "    size = len(train_dataloader)\n",
        "    history = { 'train_loss':[],'train_acc':[],'val_loss':[],'val_acc':[]}\n",
        "\n",
        "    best_train_loss = torch.inf\n",
        "    best_val_loss = torch.inf\n",
        "    best_model = None\n",
        "    best_train_acc = 0.\n",
        "    best_val_acc = 0.\n",
        "    best_auc = 0.\n",
        "    best_epoch = 0\n",
        "    count = 0\n",
        "    current_val_loss = 0\n",
        "    size_val = len(val_dataloader)\n",
        "    first_idx = torch.arange(0,size_val)\n",
        "    start = time()\n",
        "    for epoch in tqdm(range(epochs)):\n",
        "        train_loss, train_acc, _ , _ = train(model, optimizer, epoch, train_dataloader, backprop=True)\n",
        "        val_loss, val_acc, val_label, val_pred = train(model, optimizer, epoch, val_dataloader, backprop=False)\n",
        "\n",
        "        y_score = val_pred[(first_idx,val_label.astype('int32'))]\n",
        "        auc_score = roc_auc_score(val_label, y_score)\n",
        "\n",
        "        history['train_loss'].append(train_loss)\n",
        "        history['train_acc'].append(train_acc)\n",
        "        history['val_loss'].append(val_loss)\n",
        "        history['val_acc'].append(val_acc)\n",
        "        print('\\n')\n",
        "\n",
        "        if val_loss <= best_val_loss:\n",
        "          best_train_loss = train_loss\n",
        "          best_val_loss = val_loss\n",
        "          best_train_acc = train_acc\n",
        "          best_val_acc = val_acc\n",
        "\n",
        "        if best_auc <= auc_score and epoch>=15:\n",
        "          # best_model = copy.deepcopy(model)\n",
        "          # best_model_wts = copy.deepcopy(model.state_dict())\n",
        "          best_auc = auc_score\n",
        "          print(f'Rerun and stop at epoch {epoch} to attain the best classifier.')\n",
        "\n",
        "          # best_model = copy.deepcopy(model)\n",
        "          # best_model_wts = copy.deepcopy(model.state_dict())\n",
        "          # if current_val_loss>best_val_loss:\n",
        "          #   count=0\n",
        "          # if count==0:\n",
        "          #   best_auc = auc_score\n",
        "          #   current_val_loss = best_val_loss\n",
        "          #   count+=1\n",
        "\n",
        "        if epoch % 1 == 0 or epoch==epochs-1: #args.test_interval == 0:\n",
        "          print(\"Epoch: %d |  Best Train Loss: %.8f | Best Val Loss: %.8f | Best Train Acc: %.8f | Best Val Acc: %.8f\" % (epoch, best_train_loss, best_val_loss, best_train_acc, best_val_acc))\n",
        "          print('Epoch: %d |  VAL AUC: %.8f \\n' % (epoch, auc_score))\n",
        "\n",
        "    end = time()\n",
        "    print(f'Training Complete. Total Time (s): {end-start}')\n",
        "    return {'model': best_model, 'history': history}\n",
        "\n",
        "\n",
        "def train(model, optimizer, epoch, loader, backprop=True):\n",
        "    size = len(loader)\n",
        "    num_correct = 0\n",
        "    running_loss = 0.\n",
        "    loss_list = []\n",
        "    if backprop:\n",
        "        model.train()\n",
        "    else:\n",
        "        model.eval()\n",
        "    all_labels = np.zeros((size,))\n",
        "    all_labels_pred = np.zeros((size,2))\n",
        "    for batch_idx, data in enumerate(loader):\n",
        "        if batch_idx==0:\n",
        "            node_size, n_feat = data[0].x.size()\n",
        "        batch_size = data.x.shape[0]//node_size\n",
        "        inputs = data.pos.reshape(batch_size,2*int(2**node_size)*int(2**node_size)).to(device)\n",
        "        initial_node_features = data.x.cfloat().to(device)\n",
        "        labels = data.y.long().reshape(batch_size,).to(device)\n",
        "\n",
        "        labels_pred = model(inputs,initial_node_features)\n",
        "        loss = loss_fn(labels_pred,labels)\n",
        "        loss_list.append(loss.item())\n",
        "        optimizer.zero_grad()\n",
        "        if backprop:\n",
        "            loss.backward()\n",
        "            optimizer.step()\n",
        "        else:\n",
        "          all_labels[batch_idx] = labels\n",
        "          all_labels_pred[batch_idx] = labels_pred.detach().cpu()\n",
        "        num_correct += (labels_pred.argmax(dim=1)==labels).sum().int()\n",
        "        running_loss += loss.item()*batch_size\n",
        "\n",
        "    accuracy = num_correct / size\n",
        "    running_loss = running_loss/size\n",
        "\n",
        "    return running_loss, accuracy, all_labels, all_labels_pred"
      ],
      "id": "OHLv6mPqJe9g"
    },
    {
      "cell_type": "code",
      "execution_count": 88,
      "metadata": {
        "id": "5b58fda2-c65c-480c-950a-a7649d2b0a0c"
      },
      "outputs": [],
      "source": [
        "seed = 3\n",
        "torch.manual_seed(seed)\n",
        "epochs = 16\n",
        "embedding_size = 2**qubit_number\n",
        "n_layers = 6\n",
        "matrix_params =  n_layers*embedding_size*embedding_size*2\n",
        "weight_shapes = {\"weights\": (1, n_layers*2 + matrix_params)}\n",
        "model = quantum_iso_model(weight_shapes).to(device)\n",
        "lr = 1e-3\n",
        "optimizer = torch.optim.Adam(model.parameters(), lr=lr)\n",
        "loss_fn = torch.nn.CrossEntropyLoss()\n",
        "# print(qml.draw(qgcnn)(train_quantum_hamiltonians[0,:,:,:].flatten().cpu(), model.weights.cpu()))"
      ],
      "id": "5b58fda2-c65c-480c-950a-a7649d2b0a0c"
    },
    {
      "cell_type": "code",
      "execution_count": 89,
      "metadata": {
        "id": "d3b9bb0a-2232-4735-a86b-48f8f53168b8"
      },
      "outputs": [],
      "source": [
        "count = 0\n",
        "for i,param in enumerate(model.parameters()):\n",
        "    if param.dtype==torch.complex64:\n",
        "        count+=torch.view_as_real(param).flatten().shape[0]\n",
        "    else:\n",
        "        count+=param.flatten().shape[0]"
      ],
      "id": "d3b9bb0a-2232-4735-a86b-48f8f53168b8"
    },
    {
      "cell_type": "code",
      "execution_count": 90,
      "metadata": {
        "colab": {
          "base_uri": "https://localhost:8080/"
        },
        "id": "3e0886dd-ab7b-46dc-9387-cd9223b5915d",
        "outputId": "ba2db19f-7908-4128-af6f-f79132002512"
      },
      "outputs": [
        {
          "output_type": "stream",
          "name": "stdout",
          "text": [
            "5156\n"
          ]
        }
      ],
      "source": [
        "print(count)"
      ],
      "id": "3e0886dd-ab7b-46dc-9387-cd9223b5915d"
    },
    {
      "cell_type": "code",
      "execution_count": 91,
      "metadata": {
        "colab": {
          "base_uri": "https://localhost:8080/"
        },
        "id": "472db952-3dcb-4d43-90f7-b016739c9568",
        "outputId": "60d4e92a-3ca0-4f5b-d1ba-bc7083925f31"
      },
      "outputs": [
        {
          "output_type": "execute_result",
          "data": {
            "text/plain": [
              "10000"
            ]
          },
          "metadata": {},
          "execution_count": 91
        }
      ],
      "source": [
        "len(train_quantum_dataloader)"
      ],
      "id": "472db952-3dcb-4d43-90f7-b016739c9568"
    },
    {
      "cell_type": "code",
      "execution_count": 92,
      "metadata": {
        "colab": {
          "base_uri": "https://localhost:8080/"
        },
        "id": "723e8a87-e016-4f81-9786-1c8d913a6166",
        "outputId": "8af0e924-bf2e-4479-b161-c2b1646f024e",
        "scrolled": true
      },
      "outputs": [
        {
          "output_type": "stream",
          "name": "stderr",
          "text": [
            "  6%|▋         | 1/16 [08:06<2:01:35, 486.34s/it]"
          ]
        },
        {
          "output_type": "stream",
          "name": "stdout",
          "text": [
            "\n",
            "\n",
            "Epoch: 0 |  Best Train Loss: 0.59031514 | Best Val Loss: 0.56028169 | Best Train Acc: 0.69240000 | Best Val Acc: 0.72880000\n",
            "Epoch: 0 |  VAL AUC: 0.37144449 \n",
            "\n"
          ]
        },
        {
          "output_type": "stream",
          "name": "stderr",
          "text": [
            "\r 12%|█▎        | 2/16 [16:15<1:53:51, 487.94s/it]"
          ]
        },
        {
          "output_type": "stream",
          "name": "stdout",
          "text": [
            "\n",
            "\n",
            "Epoch: 1 |  Best Train Loss: 0.55324829 | Best Val Loss: 0.55485612 | Best Train Acc: 0.72910000 | Best Val Acc: 0.73920000\n",
            "Epoch: 1 |  VAL AUC: 0.45012528 \n",
            "\n"
          ]
        },
        {
          "output_type": "stream",
          "name": "stderr",
          "text": [
            "\r 19%|█▉        | 3/16 [24:26<1:46:03, 489.52s/it]"
          ]
        },
        {
          "output_type": "stream",
          "name": "stdout",
          "text": [
            "\n",
            "\n",
            "Epoch: 2 |  Best Train Loss: 0.55324829 | Best Val Loss: 0.55485612 | Best Train Acc: 0.72910000 | Best Val Acc: 0.73920000\n",
            "Epoch: 2 |  VAL AUC: 0.29968989 \n",
            "\n"
          ]
        },
        {
          "output_type": "stream",
          "name": "stderr",
          "text": [
            "\r 25%|██▌       | 4/16 [32:35<1:37:49, 489.16s/it]"
          ]
        },
        {
          "output_type": "stream",
          "name": "stdout",
          "text": [
            "\n",
            "\n",
            "Epoch: 3 |  Best Train Loss: 0.54194591 | Best Val Loss: 0.53927413 | Best Train Acc: 0.73130000 | Best Val Acc: 0.74000000\n",
            "Epoch: 3 |  VAL AUC: 0.66289894 \n",
            "\n"
          ]
        },
        {
          "output_type": "stream",
          "name": "stderr",
          "text": [
            "\r 31%|███▏      | 5/16 [40:47<1:29:52, 490.21s/it]"
          ]
        },
        {
          "output_type": "stream",
          "name": "stdout",
          "text": [
            "\n",
            "\n",
            "Epoch: 4 |  Best Train Loss: 0.54053782 | Best Val Loss: 0.53507703 | Best Train Acc: 0.73370000 | Best Val Acc: 0.74160000\n",
            "Epoch: 4 |  VAL AUC: 0.60790787 \n",
            "\n"
          ]
        },
        {
          "output_type": "stream",
          "name": "stderr",
          "text": [
            "\r 38%|███▊      | 6/16 [48:46<1:21:03, 486.39s/it]"
          ]
        },
        {
          "output_type": "stream",
          "name": "stdout",
          "text": [
            "\n",
            "\n",
            "Epoch: 5 |  Best Train Loss: 0.54053782 | Best Val Loss: 0.53507703 | Best Train Acc: 0.73370000 | Best Val Acc: 0.74160000\n",
            "Epoch: 5 |  VAL AUC: 0.52222131 \n",
            "\n"
          ]
        },
        {
          "output_type": "stream",
          "name": "stderr",
          "text": [
            "\r 44%|████▍     | 7/16 [56:59<1:13:15, 488.44s/it]"
          ]
        },
        {
          "output_type": "stream",
          "name": "stdout",
          "text": [
            "\n",
            "\n",
            "Epoch: 6 |  Best Train Loss: 0.54053782 | Best Val Loss: 0.53507703 | Best Train Acc: 0.73370000 | Best Val Acc: 0.74160000\n",
            "Epoch: 6 |  VAL AUC: 0.36014386 \n",
            "\n"
          ]
        },
        {
          "output_type": "stream",
          "name": "stderr",
          "text": [
            "\r 50%|█████     | 8/16 [1:05:24<1:05:51, 493.89s/it]"
          ]
        },
        {
          "output_type": "stream",
          "name": "stdout",
          "text": [
            "\n",
            "\n",
            "Epoch: 7 |  Best Train Loss: 0.54053782 | Best Val Loss: 0.53507703 | Best Train Acc: 0.73370000 | Best Val Acc: 0.74160000\n",
            "Epoch: 7 |  VAL AUC: 0.40922020 \n",
            "\n"
          ]
        },
        {
          "output_type": "stream",
          "name": "stderr",
          "text": [
            "\r 56%|█████▋    | 9/16 [1:13:34<57:29, 492.73s/it]  "
          ]
        },
        {
          "output_type": "stream",
          "name": "stdout",
          "text": [
            "\n",
            "\n",
            "Epoch: 8 |  Best Train Loss: 0.54053782 | Best Val Loss: 0.53507703 | Best Train Acc: 0.73370000 | Best Val Acc: 0.74160000\n",
            "Epoch: 8 |  VAL AUC: 0.63149491 \n",
            "\n"
          ]
        },
        {
          "output_type": "stream",
          "name": "stderr",
          "text": [
            "\r 62%|██████▎   | 10/16 [1:21:47<49:16, 492.74s/it]"
          ]
        },
        {
          "output_type": "stream",
          "name": "stdout",
          "text": [
            "\n",
            "\n",
            "Epoch: 9 |  Best Train Loss: 0.54053782 | Best Val Loss: 0.53507703 | Best Train Acc: 0.73370000 | Best Val Acc: 0.74160000\n",
            "Epoch: 9 |  VAL AUC: 0.43027859 \n",
            "\n"
          ]
        },
        {
          "output_type": "stream",
          "name": "stderr",
          "text": [
            "\r 69%|██████▉   | 11/16 [1:30:14<41:25, 497.06s/it]"
          ]
        },
        {
          "output_type": "stream",
          "name": "stdout",
          "text": [
            "\n",
            "\n",
            "Epoch: 10 |  Best Train Loss: 0.54053782 | Best Val Loss: 0.53507703 | Best Train Acc: 0.73370000 | Best Val Acc: 0.74160000\n",
            "Epoch: 10 |  VAL AUC: 0.30856712 \n",
            "\n"
          ]
        },
        {
          "output_type": "stream",
          "name": "stderr",
          "text": [
            "\r 75%|███████▌  | 12/16 [1:38:29<33:05, 496.40s/it]"
          ]
        },
        {
          "output_type": "stream",
          "name": "stdout",
          "text": [
            "\n",
            "\n",
            "Epoch: 11 |  Best Train Loss: 0.54053782 | Best Val Loss: 0.53507703 | Best Train Acc: 0.73370000 | Best Val Acc: 0.74160000\n",
            "Epoch: 11 |  VAL AUC: 0.52295808 \n",
            "\n"
          ]
        },
        {
          "output_type": "stream",
          "name": "stderr",
          "text": [
            "\r 81%|████████▏ | 13/16 [1:46:31<24:36, 492.18s/it]"
          ]
        },
        {
          "output_type": "stream",
          "name": "stdout",
          "text": [
            "\n",
            "\n",
            "Epoch: 12 |  Best Train Loss: 0.52896503 | Best Val Loss: 0.53402789 | Best Train Acc: 0.74000000 | Best Val Acc: 0.73280000\n",
            "Epoch: 12 |  VAL AUC: 0.47292933 \n",
            "\n"
          ]
        },
        {
          "output_type": "stream",
          "name": "stderr",
          "text": [
            "\r 88%|████████▊ | 14/16 [1:54:38<16:21, 490.53s/it]"
          ]
        },
        {
          "output_type": "stream",
          "name": "stdout",
          "text": [
            "\n",
            "\n",
            "Epoch: 13 |  Best Train Loss: 0.52896503 | Best Val Loss: 0.53402789 | Best Train Acc: 0.74000000 | Best Val Acc: 0.73280000\n",
            "Epoch: 13 |  VAL AUC: 0.57268905 \n",
            "\n"
          ]
        },
        {
          "output_type": "stream",
          "name": "stderr",
          "text": [
            "\r 94%|█████████▍| 15/16 [2:02:57<08:13, 493.08s/it]"
          ]
        },
        {
          "output_type": "stream",
          "name": "stdout",
          "text": [
            "\n",
            "\n",
            "Epoch: 14 |  Best Train Loss: 0.52896503 | Best Val Loss: 0.53402789 | Best Train Acc: 0.74000000 | Best Val Acc: 0.73280000\n",
            "Epoch: 14 |  VAL AUC: 0.49467572 \n",
            "\n"
          ]
        },
        {
          "output_type": "stream",
          "name": "stderr",
          "text": [
            "100%|██████████| 16/16 [2:11:04<00:00, 491.55s/it]"
          ]
        },
        {
          "output_type": "stream",
          "name": "stdout",
          "text": [
            "\n",
            "\n",
            "Rerun and stop at epoch 15 to attain the best classifier.\n",
            "Epoch: 15 |  Best Train Loss: 0.52896503 | Best Val Loss: 0.53402789 | Best Train Acc: 0.74000000 | Best Val Acc: 0.73280000\n",
            "Epoch: 15 |  VAL AUC: 0.61879775 \n",
            "\n",
            "Training Complete. Total Time (s): 7864.8272793293\n"
          ]
        },
        {
          "output_type": "stream",
          "name": "stderr",
          "text": [
            "\n"
          ]
        }
      ],
      "source": [
        "qgnn_model_and_history = quantum_training(train_quantum_dataloader,\n",
        "                             val_quantum_dataloader,\n",
        "                             epochs,\n",
        "                             loss_fn,\n",
        "                             model,\n",
        "                             optimizer)"
      ],
      "id": "723e8a87-e016-4f81-9786-1c8d913a6166"
    },
    {
      "cell_type": "markdown",
      "metadata": {
        "id": "44932143-020e-447b-81e8-038ba6e196bb"
      },
      "source": [
        "# Model Weights and Training History"
      ],
      "id": "44932143-020e-447b-81e8-038ba6e196bb"
    },
    {
      "cell_type": "code",
      "execution_count": 93,
      "metadata": {
        "id": "346a1a63-9bc5-49e9-a6e4-ea495d491ae9"
      },
      "outputs": [],
      "source": [
        "train_acc = []\n",
        "for i,val in enumerate(qgnn_model_and_history['history']['train_acc']):\n",
        "    train_acc.append(val.cpu().detach().numpy())\n",
        "\n",
        "val_acc = []\n",
        "for i,val in enumerate(qgnn_model_and_history['history']['val_acc']):\n",
        "    val_acc.append(val.cpu().detach().numpy())"
      ],
      "id": "346a1a63-9bc5-49e9-a6e4-ea495d491ae9"
    },
    {
      "cell_type": "code",
      "execution_count": 94,
      "metadata": {
        "colab": {
          "base_uri": "https://localhost:8080/",
          "height": 567
        },
        "id": "0f94e7ae",
        "outputId": "28baafb7-1f12-453c-f642-97a7f816ef4a"
      },
      "outputs": [
        {
          "output_type": "display_data",
          "data": {
            "text/plain": [
              "<Figure size 800x500 with 1 Axes>"
            ],
            "image/png": "[encoded data removed]"
          },
          "metadata": {}
        }
      ],
      "source": [
        "plt.figure(figsize=(8,5))\n",
        "plt.plot(qgnn_model_and_history['history']['train_loss'],c='b',label=f'Train Loss ({train_index} jets)')\n",
        "plt.plot(qgnn_model_and_history['history']['val_loss'],c='darkorange',label=f'Val Loss ({val_index-train_index} jets)')\n",
        "plt.plot(train_acc,c='cyan',label='Train Accuracy')\n",
        "plt.plot(val_acc,c='orangered',label='Val Accuracy')\n",
        "plt.title(f'QGNN\\n $|\\Theta| = {count}$,  $N_h={embedding_size}$,  $P={n_layers}$', fontsize=25)\n",
        "plt.xlabel('Epoch',fontsize=25)\n",
        "plt.ylabel('Loss/Accuracy',fontsize=25)\n",
        "plt.legend(fontsize = 13, loc = 'lower right')\n",
        "plt.xticks(fontsize=13,ticks=[i for i in range(0,epochs,2)])\n",
        "plt.yticks(fontsize=14)\n",
        "plt.ylim([0.40,0.76])\n",
        "plt.savefig(plot_path+f'qgnn_training_{count}_{embedding_size}_{n_layers}_{seed}.png',bbox_inches='tight')"
      ],
      "id": "0f94e7ae"
    },
    {
      "cell_type": "code",
      "execution_count": 95,
      "metadata": {
        "id": "0718161a-8b6c-4679-b213-a221fd6b6dc6"
      },
      "outputs": [],
      "source": [
        "model.eval()\n",
        "with torch.no_grad():\n",
        "    size = len(test_quantum_dataloader)\n",
        "    num_correct = 0\n",
        "    labels_all = None\n",
        "    for i,data in enumerate(test_quantum_dataloader):\n",
        "        if i==0:\n",
        "            node_size, n_feat = data[0].x.size()\n",
        "        batch_size = data.x.shape[0]//node_size\n",
        "        inputs = data.pos.reshape(batch_size,2*int(2**node_size)*int(2**node_size)).to(device)\n",
        "        labels = data.y.long().reshape(batch_size,).to(device)\n",
        "\n",
        "        labels_pred = model(inputs,data.x.cfloat().to(device))\n",
        "        num_correct += (labels_pred.argmax(dim=1)==labels).sum().int()\n",
        "\n",
        "        if labels_all is not None:\n",
        "            labels_all = torch.cat([labels_all,labels],dim=0)\n",
        "            labels_pred_all = torch.cat([labels_pred_all,labels_pred],dim=0)\n",
        "        else:\n",
        "            labels_all = copy.deepcopy(labels)\n",
        "            labels_pred_all = copy.deepcopy(labels_pred)"
      ],
      "id": "0718161a-8b6c-4679-b213-a221fd6b6dc6"
    },
    {
      "cell_type": "code",
      "execution_count": 96,
      "metadata": {
        "id": "nU4Ac4XCvE4E"
      },
      "outputs": [],
      "source": [
        "labels_all = copy.deepcopy(labels_all.cpu())\n",
        "labels_pred_all = copy.deepcopy(labels_pred_all.cpu())"
      ],
      "id": "nU4Ac4XCvE4E"
    },
    {
      "cell_type": "code",
      "execution_count": 97,
      "metadata": {
        "id": "3d4da7b9-161e-4429-9bf4-ad111c6dea3f",
        "colab": {
          "base_uri": "https://localhost:8080/",
          "height": 365
        },
        "outputId": "1a81c864-8d55-42ea-95cf-c80901f5366f"
      },
      "outputs": [
        {
          "output_type": "display_data",
          "data": {
            "text/plain": [
              "<Figure size 400x300 with 2 Axes>"
            ],
            "image/png": "[encoded data removed]"
          },
          "metadata": {}
        },
        {
          "output_type": "stream",
          "name": "stdout",
          "text": [
            "Accuracy for QGNN:  tensor(0.7392)\n"
          ]
        }
      ],
      "source": [
        "from sklearn.metrics import confusion_matrix\n",
        "# Calculate the confusion matrix\n",
        "conf_matrix = confusion_matrix(y_true=labels_all, y_pred=labels_pred_all.argmax(dim=1))\n",
        "# Print the confusion matrix using Matplotlib\n",
        "fig, ax = plt.subplots(figsize=(4, 3))\n",
        "im = ax.imshow(conf_matrix, cmap=plt.cm.Blues, alpha=0.3)\n",
        "for i in range(conf_matrix.shape[0]):\n",
        "    for j in range(conf_matrix.shape[1]):\n",
        "        ax.text(x=j, y=i,s=conf_matrix[i, j], va='center', ha='center', size='xx-large')\n",
        "plt.xlabel('Pred', fontsize=18)\n",
        "plt.ylabel('True', fontsize=18)\n",
        "plt.title('Confusion Matrix for QGNN', fontsize=18)\n",
        "plt.xticks(ticks=[0,1],labels=['Gluon','Quark'])\n",
        "plt.yticks(ticks=[0,1],labels=['Gluon','Quark'])\n",
        "plt.colorbar(im)\n",
        "plt.show()\n",
        "\n",
        "size=labels_all.shape[0]\n",
        "num_correct = (labels_all==labels_pred_all.argmax(dim=1)).sum().int()\n",
        "print('Accuracy for QGNN: ',num_correct/size)"
      ],
      "id": "3d4da7b9-161e-4429-9bf4-ad111c6dea3f"
    },
    {
      "cell_type": "code",
      "execution_count": 98,
      "metadata": {
        "id": "1fca400d-cd2f-49b4-84c9-fa1f06b8b5f0"
      },
      "outputs": [],
      "source": [
        "from sklearn.metrics import roc_curve, roc_auc_score\n",
        "first_idx = torch.arange(0,labels_pred_all.shape[0])\n",
        "y_score_qgnn = labels_pred_all[(first_idx,labels_all.int())]\n",
        "fpr_qgnn, tpr_qgnn, thresholds = roc_curve(labels_all, y_score_qgnn)\n",
        "auc_score_qgnn = roc_auc_score(labels_all, y_score_qgnn)"
      ],
      "id": "1fca400d-cd2f-49b4-84c9-fa1f06b8b5f0"
    },
    {
      "cell_type": "code",
      "execution_count": 99,
      "metadata": {
        "id": "50c4ea94-04b0-49d5-a9e3-f809282e8a85"
      },
      "outputs": [],
      "source": [
        "np.save(plot_path+f'fpr_qgnn_{count}_{embedding_size}_{n_layers}_{seed}.npy',fpr_qgnn)\n",
        "np.save(plot_path+f'tpr_qgnn_{count}_{embedding_size}_{n_layers}_{seed}.npy',tpr_qgnn)\n",
        "np.save(plot_path+f'y_score_qgnn_{count}_{embedding_size}_{n_layers}_{seed}.npy',y_score_qgnn)\n",
        "np.save(plot_path+f'labels_all_qgnn_{count}_{embedding_size}_{n_layers}_{seed}.npy',labels_all.numpy())"
      ],
      "id": "50c4ea94-04b0-49d5-a9e3-f809282e8a85"
    },
    {
      "cell_type": "code",
      "execution_count": 100,
      "metadata": {
        "id": "3lDt1m1h85bQ",
        "colab": {
          "base_uri": "https://localhost:8080/",
          "height": 447
        },
        "outputId": "5ed6836b-79b7-4bf4-a002-fd34ff5b5dd6"
      },
      "outputs": [
        {
          "output_type": "execute_result",
          "data": {
            "text/plain": [
              "<matplotlib.legend.Legend at 0x7e497f5965c0>"
            ]
          },
          "metadata": {},
          "execution_count": 100
        },
        {
          "output_type": "display_data",
          "data": {
            "text/plain": [
              "<Figure size 640x480 with 1 Axes>"
            ],
            "image/png": "[encoded data removed]"
          },
          "metadata": {}
        }
      ],
      "source": [
        "plt.plot(fpr_qgnn,tpr_qgnn,label = f'AUC Score: {100*auc_score_qgnn:.3f}',c='b')\n",
        "plt.legend()"
      ],
      "id": "3lDt1m1h85bQ"
    },
    {
      "cell_type": "code",
      "execution_count": 100,
      "metadata": {
        "id": "5Y8-Ak_o_ZgU"
      },
      "outputs": [],
      "source": [],
      "id": "5Y8-Ak_o_ZgU"
    }
  ],
  "metadata": {
    "accelerator": "TPU",
    "colab": {
      "machine_shape": "hm",
      "provenance": []
    },
    "kernelspec": {
      "display_name": "Python 3",
      "name": "python3"
    },
    "language_info": {
      "codemirror_mode": {
        "name": "ipython",
        "version": 3
      },
      "file_extension": ".py",
      "mimetype": "text/x-python",
      "name": "python",
      "nbconvert_exporter": "python",
      "pygments_lexer": "ipython3",
      "version": "3.11.3"
    }
  },
  "nbformat": 4,
  "nbformat_minor": 5
}