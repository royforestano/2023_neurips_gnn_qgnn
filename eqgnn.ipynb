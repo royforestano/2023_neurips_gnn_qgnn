{
  "cells": [
    {
      "cell_type": "markdown",
      "metadata": {
        "id": "9949750b"
      },
      "source": [
        "# Equivariant Quantum Graph Neural Networks (EQGNNs)\n",
        "\n",
        "- Verdon, G., McCourt, T., Luzhnica, E., Singh, V., Leichenauer, S., & Hidary, J. (2019). Quantum Graph Neural Networks. arXiv preprint arXiv:1909.12264. https://arxiv.org/abs/1909.12264\n",
        "- Equivariant Quantum Graph Circuits: https://arxiv.org/abs/2112.05261\n",
        "- Equivariant quantum circuits for learning on weighted graphs: https://www.nature.com/articles/s41534-023-00710-y\n",
        "- All you need is spin: SU(2) equivariant variational quantum circuits based on spin networks: https://arxiv.org/abs/2309.07250\n",
        "- Benchmarking variational quantum circuits with permutation symmetry: https://arxiv.org/pdf/2211.12711.pdf\n",
        "\n",
        "A classical GNN maps a given graph structure into a lower dimensional vector space with characteristic features assigned to nodes and edges. This representation should preserve the topological graph structure, i.e. which nodes are connected, along with the deterministic features of the nodes and attributes of the edges. In the quantum graph structure, classical nodes can be mapped to quantum states, features to the characteristics of the states, edges to the interactions between states, and edge attributes to the strength of the interactions between the quantum states which form the graph. The larger structure of a classical model can then be embedded into the Hamiltonian operator you choose to act on the specified quantum states within the graph which will ultimately determine the dynamics and final state of the quantum algorithm. The equivariance here is introduced as a sum over the final product state elements."
      ],
      "id": "9949750b"
    },
    {
      "cell_type": "markdown",
      "metadata": {
        "id": "c748d29b"
      },
      "source": [
        "## Import Packages and Device"
      ],
      "id": "c748d29b"
    },
    {
      "cell_type": "code",
      "execution_count": 1,
      "metadata": {
        "colab": {
          "base_uri": "https://localhost:8080/"
        },
        "id": "QTdxLN4rR-k7",
        "outputId": "1d8e596a-048f-490e-c95d-5ebc29c42db5"
      },
      "outputs": [
        {
          "output_type": "stream",
          "name": "stdout",
          "text": [
            "/bin/bash: line 1: nvidia-smi: command not found\n"
          ]
        }
      ],
      "source": [
        "gpu_info = !nvidia-smi\n",
        "gpu_info = '\\n'.join(gpu_info)\n",
        "if gpu_info.find('failed') >= 0:\n",
        "  print('Not connected to a GPU')\n",
        "else:\n",
        "  print(gpu_info)"
      ],
      "id": "QTdxLN4rR-k7"
    },
    {
      "cell_type": "code",
      "execution_count": 2,
      "metadata": {
        "colab": {
          "base_uri": "https://localhost:8080/"
        },
        "id": "4QsUJjX4R_a1",
        "outputId": "66b8e61a-2d63-4420-b8a9-cb084e097de6"
      },
      "outputs": [
        {
          "output_type": "stream",
          "name": "stdout",
          "text": [
            "Collecting particle\n",
            "  Downloading particle-0.23.0-py3-none-any.whl (288 kB)\n",
            "\u001b[?25l     \u001b[90m━━━━━━━━━━━━━━━━━━━━━━━━━━━━━━━━━━━━━━━━\u001b[0m \u001b[32m0.0/288.3 kB\u001b[0m \u001b[31m?\u001b[0m eta \u001b[36m-:--:--\u001b[0m\r\u001b[2K     \u001b[91m━━━━━━━━━━━━━━━━━━━\u001b[0m\u001b[90m╺\u001b[0m\u001b[90m━━━━━━━━━━━━━━━━━━━\u001b[0m \u001b[32m143.4/288.3 kB\u001b[0m \u001b[31m4.1 MB/s\u001b[0m eta \u001b[36m0:00:01\u001b[0m\r\u001b[2K     \u001b[90m━━━━━━━━━━━━━━━━━━━━━━━━━━━━━━━━━━━━━━━\u001b[0m \u001b[32m288.3/288.3 kB\u001b[0m \u001b[31m5.3 MB/s\u001b[0m eta \u001b[36m0:00:00\u001b[0m\n",
            "\u001b[?25hRequirement already satisfied: attrs>=19.2 in /usr/local/lib/python3.10/dist-packages (from particle) (23.1.0)\n",
            "Collecting deprecated (from particle)\n",
            "  Downloading Deprecated-1.2.14-py2.py3-none-any.whl (9.6 kB)\n",
            "Collecting hepunits>=2.0.0 (from particle)\n",
            "  Downloading hepunits-2.3.2-py3-none-any.whl (14 kB)\n",
            "Requirement already satisfied: wrapt<2,>=1.10 in /usr/local/lib/python3.10/dist-packages (from deprecated->particle) (1.14.1)\n",
            "Installing collected packages: hepunits, deprecated, particle\n",
            "Successfully installed deprecated-1.2.14 hepunits-2.3.2 particle-0.23.0\n",
            "Collecting pennylane\n",
            "  Downloading PennyLane-0.32.0-py3-none-any.whl (1.5 MB)\n",
            "\u001b[2K     \u001b[90m━━━━━━━━━━━━━━━━━━━━━━━━━━━━━━━━━━━━━━━━\u001b[0m \u001b[32m1.5/1.5 MB\u001b[0m \u001b[31m17.6 MB/s\u001b[0m eta \u001b[36m0:00:00\u001b[0m\n",
            "\u001b[?25hRequirement already satisfied: numpy<1.24 in /usr/local/lib/python3.10/dist-packages (from pennylane) (1.23.5)\n",
            "Requirement already satisfied: scipy in /usr/local/lib/python3.10/dist-packages (from pennylane) (1.11.2)\n",
            "Requirement already satisfied: networkx in /usr/local/lib/python3.10/dist-packages (from pennylane) (3.1)\n",
            "Collecting rustworkx (from pennylane)\n",
            "  Downloading rustworkx-0.13.1-cp310-cp310-manylinux_2_17_x86_64.manylinux2014_x86_64.whl (2.0 MB)\n",
            "\u001b[2K     \u001b[90m━━━━━━━━━━━━━━━━━━━━━━━━━━━━━━━━━━━━━━━━\u001b[0m \u001b[32m2.0/2.0 MB\u001b[0m \u001b[31m54.8 MB/s\u001b[0m eta \u001b[36m0:00:00\u001b[0m\n",
            "\u001b[?25hCollecting autograd<=1.5 (from pennylane)\n",
            "  Downloading autograd-1.5-py3-none-any.whl (48 kB)\n",
            "\u001b[2K     \u001b[90m━━━━━━━━━━━━━━━━━━━━━━━━━━━━━━━━━━━━━━━━\u001b[0m \u001b[32m48.9/48.9 kB\u001b[0m \u001b[31m5.6 MB/s\u001b[0m eta \u001b[36m0:00:00\u001b[0m\n",
            "\u001b[?25hRequirement already satisfied: toml in /usr/local/lib/python3.10/dist-packages (from pennylane) (0.10.2)\n",
            "Requirement already satisfied: appdirs in /usr/local/lib/python3.10/dist-packages (from pennylane) (1.4.4)\n",
            "Collecting semantic-version>=2.7 (from pennylane)\n",
            "  Downloading semantic_version-2.10.0-py2.py3-none-any.whl (15 kB)\n",
            "Collecting autoray>=0.3.1 (from pennylane)\n",
            "  Downloading autoray-0.6.6-py3-none-any.whl (54 kB)\n",
            "\u001b[2K     \u001b[90m━━━━━━━━━━━━━━━━━━━━━━━━━━━━━━━━━━━━━━━━\u001b[0m \u001b[32m54.7/54.7 kB\u001b[0m \u001b[31m6.7 MB/s\u001b[0m eta \u001b[36m0:00:00\u001b[0m\n",
            "\u001b[?25hRequirement already satisfied: cachetools in /usr/local/lib/python3.10/dist-packages (from pennylane) (5.3.1)\n",
            "Collecting pennylane-lightning>=0.32 (from pennylane)\n",
            "  Downloading PennyLane_Lightning-0.32.0-cp310-cp310-manylinux_2_17_x86_64.manylinux2014_x86_64.whl (13.6 MB)\n",
            "\u001b[2K     \u001b[90m━━━━━━━━━━━━━━━━━━━━━━━━━━━━━━━━━━━━━━━━\u001b[0m \u001b[32m13.6/13.6 MB\u001b[0m \u001b[31m75.3 MB/s\u001b[0m eta \u001b[36m0:00:00\u001b[0m\n",
            "\u001b[?25hRequirement already satisfied: requests in /usr/local/lib/python3.10/dist-packages (from pennylane) (2.31.0)\n",
            "Requirement already satisfied: typing-extensions in /usr/local/lib/python3.10/dist-packages (from pennylane) (4.5.0)\n",
            "Requirement already satisfied: future>=0.15.2 in /usr/local/lib/python3.10/dist-packages (from autograd<=1.5->pennylane) (0.18.3)\n",
            "Requirement already satisfied: charset-normalizer<4,>=2 in /usr/local/lib/python3.10/dist-packages (from requests->pennylane) (3.2.0)\n",
            "Requirement already satisfied: idna<4,>=2.5 in /usr/local/lib/python3.10/dist-packages (from requests->pennylane) (3.4)\n",
            "Requirement already satisfied: urllib3<3,>=1.21.1 in /usr/local/lib/python3.10/dist-packages (from requests->pennylane) (2.0.4)\n",
            "Requirement already satisfied: certifi>=2017.4.17 in /usr/local/lib/python3.10/dist-packages (from requests->pennylane) (2023.7.22)\n",
            "Installing collected packages: semantic-version, rustworkx, autoray, autograd, pennylane-lightning, pennylane\n",
            "  Attempting uninstall: autograd\n",
            "    Found existing installation: autograd 1.6.2\n",
            "    Uninstalling autograd-1.6.2:\n",
            "      Successfully uninstalled autograd-1.6.2\n",
            "Successfully installed autograd-1.5 autoray-0.6.6 pennylane-0.32.0 pennylane-lightning-0.32.0 rustworkx-0.13.1 semantic-version-2.10.0\n",
            "Collecting torch_geometric\n",
            "  Downloading torch_geometric-2.3.1.tar.gz (661 kB)\n",
            "\u001b[2K     \u001b[90m━━━━━━━━━━━━━━━━━━━━━━━━━━━━━━━━━━━━━━━\u001b[0m \u001b[32m661.6/661.6 kB\u001b[0m \u001b[31m9.5 MB/s\u001b[0m eta \u001b[36m0:00:00\u001b[0m\n",
            "\u001b[?25h  Installing build dependencies ... \u001b[?25l\u001b[?25hdone\n",
            "  Getting requirements to build wheel ... \u001b[?25l\u001b[?25hdone\n",
            "  Preparing metadata (pyproject.toml) ... \u001b[?25l\u001b[?25hdone\n",
            "Requirement already satisfied: tqdm in /usr/local/lib/python3.10/dist-packages (from torch_geometric) (4.66.1)\n",
            "Requirement already satisfied: numpy in /usr/local/lib/python3.10/dist-packages (from torch_geometric) (1.23.5)\n",
            "Requirement already satisfied: scipy in /usr/local/lib/python3.10/dist-packages (from torch_geometric) (1.11.2)\n",
            "Requirement already satisfied: jinja2 in /usr/local/lib/python3.10/dist-packages (from torch_geometric) (3.1.2)\n",
            "Requirement already satisfied: requests in /usr/local/lib/python3.10/dist-packages (from torch_geometric) (2.31.0)\n",
            "Requirement already satisfied: pyparsing in /usr/local/lib/python3.10/dist-packages (from torch_geometric) (3.1.1)\n",
            "Requirement already satisfied: scikit-learn in /usr/local/lib/python3.10/dist-packages (from torch_geometric) (1.2.2)\n",
            "Requirement already satisfied: psutil>=5.8.0 in /usr/local/lib/python3.10/dist-packages (from torch_geometric) (5.9.5)\n",
            "Requirement already satisfied: MarkupSafe>=2.0 in /usr/local/lib/python3.10/dist-packages (from jinja2->torch_geometric) (2.1.3)\n",
            "Requirement already satisfied: charset-normalizer<4,>=2 in /usr/local/lib/python3.10/dist-packages (from requests->torch_geometric) (3.2.0)\n",
            "Requirement already satisfied: idna<4,>=2.5 in /usr/local/lib/python3.10/dist-packages (from requests->torch_geometric) (3.4)\n",
            "Requirement already satisfied: urllib3<3,>=1.21.1 in /usr/local/lib/python3.10/dist-packages (from requests->torch_geometric) (2.0.4)\n",
            "Requirement already satisfied: certifi>=2017.4.17 in /usr/local/lib/python3.10/dist-packages (from requests->torch_geometric) (2023.7.22)\n",
            "Requirement already satisfied: joblib>=1.1.1 in /usr/local/lib/python3.10/dist-packages (from scikit-learn->torch_geometric) (1.3.2)\n",
            "Requirement already satisfied: threadpoolctl>=2.0.0 in /usr/local/lib/python3.10/dist-packages (from scikit-learn->torch_geometric) (3.2.0)\n",
            "Building wheels for collected packages: torch_geometric\n",
            "  Building wheel for torch_geometric (pyproject.toml) ... \u001b[?25l\u001b[?25hdone\n",
            "  Created wheel for torch_geometric: filename=torch_geometric-2.3.1-py3-none-any.whl size=910454 sha256=e5cc5720b2c5c8c1d85fb9b5e52547459da1f52a193d1ff2b0023e824be1d96e\n",
            "  Stored in directory: /root/.cache/pip/wheels/ac/dc/30/e2874821ff308ee67dcd7a66dbde912411e19e35a1addda028\n",
            "Successfully built torch_geometric\n",
            "Installing collected packages: torch_geometric\n",
            "Successfully installed torch_geometric-2.3.1\n"
          ]
        }
      ],
      "source": [
        "!pip install particle\n",
        "!pip install pennylane\n",
        "!pip install torch_geometric"
      ],
      "id": "4QsUJjX4R_a1"
    },
    {
      "cell_type": "code",
      "execution_count": 3,
      "metadata": {
        "colab": {
          "base_uri": "https://localhost:8080/"
        },
        "id": "gg7YlpRkXWXY",
        "outputId": "225ebe0b-0240-42a1-92ad-af82920d7124"
      },
      "outputs": [
        {
          "output_type": "stream",
          "name": "stdout",
          "text": [
            "Mounted at /content/drive\n"
          ]
        }
      ],
      "source": [
        "from google.colab import drive\n",
        "drive.mount('/content/drive')"
      ],
      "id": "gg7YlpRkXWXY"
    },
    {
      "cell_type": "code",
      "execution_count": 4,
      "metadata": {
        "colab": {
          "base_uri": "https://localhost:8080/"
        },
        "id": "904XEib2XZQP",
        "outputId": "dcd2d93e-3635-4f6e-a280-4578c60f5698"
      },
      "outputs": [
        {
          "output_type": "stream",
          "name": "stdout",
          "text": [
            "/content/drive/MyDrive/research/gsoc/2023_gsoc\n"
          ]
        }
      ],
      "source": [
        "import os\n",
        "path = '/content/drive/MyDrive/research/'\n",
        "directory = path\n",
        "os.chdir(directory)\n",
        "print(os.getcwd())"
      ],
      "id": "904XEib2XZQP"
    },
    {
      "cell_type": "code",
      "execution_count": 5,
      "metadata": {
        "colab": {
          "base_uri": "https://localhost:8080/"
        },
        "id": "13dfca3b",
        "outputId": "88cfebde-47b5-4f2f-adb6-a92eb30933bf"
      },
      "outputs": [
        {
          "output_type": "stream",
          "name": "stdout",
          "text": [
            "Device:  cpu\n"
          ]
        },
        {
          "output_type": "execute_result",
          "data": {
            "text/plain": [
              "<torch._C.Generator at 0x782525b37d70>"
            ]
          },
          "metadata": {},
          "execution_count": 5
        }
      ],
      "source": [
        "import pennylane as qml\n",
        "from pennylane import numpy as np\n",
        "import matplotlib.pyplot as plt\n",
        "import scipy\n",
        "import networkx as nx\n",
        "import copy\n",
        "import random\n",
        "\n",
        "# from numpy.random import default_rng\n",
        "import pandas as pd\n",
        "from tqdm import tqdm\n",
        "from time import time\n",
        "import os\n",
        "import copy\n",
        "from particle import Particle\n",
        "# from sklearn.model_selection import train_test_split\n",
        "from gnn_egnn.preprocess import *\n",
        "\n",
        "import torch\n",
        "from torch import nn as nn\n",
        "# from torch.utils.data import TensorDataset, DataLoader, Dataset\n",
        "from torchvision import datasets\n",
        "from torchvision.transforms import ToTensor\n",
        "from torch.nn import Linear\n",
        "import torch.nn.functional as F\n",
        "from scipy import stats\n",
        "from sklearn.metrics import roc_curve, roc_auc_score\n",
        "\n",
        "\n",
        "from torch_geometric.data import Data\n",
        "from torch_geometric.loader import DataLoader\n",
        "from torch_geometric.data import Dataset, InMemoryDataset, download_url\n",
        "# from torch_geometric.nn import GCNConv\n",
        "# from torch_geometric.nn import GATConv\n",
        "# from torch_geometric.nn import Sequential\n",
        "# from torch_geometric import nn\n",
        "# from torch_geometric.nn import global_mean_pool\n",
        "\n",
        "\n",
        "torch.set_default_dtype(torch.float64)\n",
        "device = \"cuda\" if torch.cuda.is_available() else \"cpu\"\n",
        "print('Device: ',device)\n",
        "\n",
        "np.random.seed(0)\n",
        "torch.manual_seed(0)"
      ],
      "id": "13dfca3b"
    },
    {
      "cell_type": "markdown",
      "metadata": {
        "id": "a088af02"
      },
      "source": [
        "## Load Data"
      ],
      "id": "a088af02"
    },
    {
      "cell_type": "code",
      "execution_count": 6,
      "metadata": {
        "id": "9cdff064"
      },
      "outputs": [],
      "source": [
        "path = 'data/'\n",
        "plot_path = 'plots/'"
      ],
      "id": "9cdff064"
    },
    {
      "cell_type": "markdown",
      "metadata": {
        "id": "c4d16dc9"
      },
      "source": [
        "## Preprocess data"
      ],
      "id": "c4d16dc9"
    },
    {
      "cell_type": "code",
      "execution_count": 7,
      "metadata": {
        "id": "7346194b-2120-48d7-bd08-95c0eba5bdd8"
      },
      "outputs": [],
      "source": [
        "N=12500\n",
        "x10_sorted_12500 = np.load(path+'x10_sorted_12500.npy')[:N]\n",
        "y10_sorted_12500 = np.load(path+'y10_sorted_12500.npy')[:N]"
      ],
      "id": "7346194b-2120-48d7-bd08-95c0eba5bdd8"
    },
    {
      "cell_type": "code",
      "execution_count": 8,
      "metadata": {
        "colab": {
          "base_uri": "https://localhost:8080/"
        },
        "id": "29278f98-0eee-4144-a69c-7f039cbeb7ea",
        "outputId": "564df8cd-74f4-42f4-f9fd-5131bb6e7a61"
      },
      "outputs": [
        {
          "output_type": "stream",
          "name": "stdout",
          "text": [
            "--- Finding All Unique Particles ---\n",
            "\n",
            "--- Inserting Masses ---\n"
          ]
        },
        {
          "output_type": "stream",
          "name": "stderr",
          "text": [
            "14it [00:00, 258.05it/s]"
          ]
        },
        {
          "output_type": "stream",
          "name": "stdout",
          "text": [
            "\n",
            "--- Calculating Momenta and Energies ---\n",
            "\n",
            "--- Calculating Edge Tensors ---\n"
          ]
        },
        {
          "output_type": "stream",
          "name": "stderr",
          "text": [
            "\n",
            "100%|██████████| 12500/12500 [00:07<00:00, 1743.19it/s]\n"
          ]
        },
        {
          "output_type": "stream",
          "name": "stdout",
          "text": [
            "\n",
            "--- Calculating Quantum Hamiltonians ---\n"
          ]
        },
        {
          "output_type": "stream",
          "name": "stderr",
          "text": [
            "100%|██████████| 12500/12500 [01:11<00:00, 175.58it/s]\n"
          ]
        }
      ],
      "source": [
        "nodes_per_graph = 3\n",
        "x_data_proc, y_data_proc, edge_tensor, edge_indx_tensor, edge_attr_matrix, graph_help, quantum_hamiltonians = preprocess_fixed_nodes_quantum(x10_sorted_12500,y10_sorted_12500,nodes_per_graph = nodes_per_graph) #,masses[:N])\n",
        "N = x_data_proc.shape[0]"
      ],
      "id": "29278f98-0eee-4144-a69c-7f039cbeb7ea"
    },
    {
      "cell_type": "code",
      "execution_count": 9,
      "metadata": {
        "colab": {
          "base_uri": "https://localhost:8080/"
        },
        "id": "bcb70d25",
        "outputId": "6171cdd1-282c-4772-d72b-90b7a95f6d0a"
      },
      "outputs": [
        {
          "output_type": "stream",
          "name": "stdout",
          "text": [
            "----- Check for the correctly sized tensors -----\n",
            "\n",
            "Jet Data: torch.Size([12500, 3, 8])\n",
            "Classification: torch.Size([12500])\n",
            "Full Edge Information: torch.Size([12500, 3, 3])\n",
            "Edge Index Information: torch.Size([12500, 2, 6])\n",
            "Edge Attribute Information: torch.Size([12500, 6, 1])\n",
            "Graph Structure Information: torch.Size([12500, 4])\n",
            "Quantum Information: torch.Size([12500, 2, 8, 8])\n",
            "\n",
            "\n",
            "----- Check that each tensor is normalized -----\n",
            "\n",
            "Jet Data max: 1.0\n",
            "Classification Max: 1\n",
            "Edge Length Max: 1.0\n"
          ]
        }
      ],
      "source": [
        "print('----- Check for the correctly sized tensors -----')\n",
        "print()\n",
        "print(f'Jet Data: {x_data_proc.shape}')\n",
        "print(f'Classification: {y_data_proc.shape}')\n",
        "print(f'Full Edge Information: {edge_tensor.shape}')\n",
        "print(f'Edge Index Information: {edge_indx_tensor.shape}')\n",
        "print(f'Edge Attribute Information: {edge_attr_matrix.shape}')\n",
        "print(f'Graph Structure Information: {graph_help.shape}')\n",
        "print(f'Quantum Information: {quantum_hamiltonians.shape}')\n",
        "print('\\n')\n",
        "print('----- Check that each tensor is normalized -----')\n",
        "print()\n",
        "print(f'Jet Data max: {torch.max(x_data_proc)}')\n",
        "print(f'Classification Max: {torch.max(y_data_proc)}')\n",
        "print(f'Edge Length Max: {torch.max(edge_tensor)}')"
      ],
      "id": "bcb70d25"
    },
    {
      "cell_type": "code",
      "execution_count": 10,
      "metadata": {
        "colab": {
          "base_uri": "https://localhost:8080/"
        },
        "id": "eb2a26a3",
        "outputId": "08aac8e5-6902-40f6-efc4-52698de88867",
        "scrolled": true
      },
      "outputs": [
        {
          "output_type": "stream",
          "name": "stdout",
          "text": [
            "----- Check the structure of the dataset -----\n",
            "\n",
            "Number of graphs (jets): 12500\n",
            "Number of features per node (p_T(M),y,phi,m,E,px,py,pz): 8\n",
            "Number of classes (2: Quarks or Gluons): 2\n",
            "\n",
            "----- Check the structure of one graph -----\n",
            "\n",
            "Number of nodes (particle IDs): 3\n",
            "Number of edges: 6.0\n",
            "Average node degree: 2.00\n",
            "Is undirected: True\n"
          ]
        }
      ],
      "source": [
        "print('----- Check the structure of the dataset -----')\n",
        "print()\n",
        "print(f'Number of graphs (jets): {x_data_proc.shape[0]}')\n",
        "print(r'Number of features per node (p_T(M),y,phi,m,E,px,py,pz): '+f'{x_data_proc.shape[2]}')\n",
        "print(f'Number of classes (2: Quarks or Gluons): {np.unique(y_data_proc).shape[0]}')\n",
        "print()\n",
        "print('----- Check the structure of one graph -----')\n",
        "print()\n",
        "i=0\n",
        "number_of_edges = graph_help[i,3]\n",
        "# Gather some statistics about the first graph.\n",
        "print(f'Number of nodes (particle IDs): {x_data_proc[i,:,0].shape[0]}')\n",
        "print(f'Number of edges: {number_of_edges}')\n",
        "print(f'Average node degree: {number_of_edges / x_data_proc[i,:,0].shape[0]:.2f}')\n",
        "print(f'Is undirected: {True}')"
      ],
      "id": "eb2a26a3"
    },
    {
      "cell_type": "code",
      "execution_count": 11,
      "metadata": {
        "id": "98e1abc0"
      },
      "outputs": [],
      "source": [
        "# Create a dataset class\n",
        "class Create_Dataset(Dataset):\n",
        "    def __init__(self, edge_index, x, edge_attr, y, graph_info, hamiltonians, transform=None):\n",
        "        self.edge_index = edge_index\n",
        "        self.x          = x\n",
        "        self.edge_attr  = edge_attr\n",
        "        self.y          = y\n",
        "        self.graph_info = graph_info\n",
        "        self.hamiltonians = hamiltonians\n",
        "        self.transform  = transform\n",
        "\n",
        "    def __len__(self):\n",
        "        return self.y.shape[0]\n",
        "\n",
        "    # Could also just define an x,y,z then pass these variables\n",
        "    # in the training functions over the loop for batch (actually think that way is easier to read)\n",
        "    def __getitem__(self, index):\n",
        "        sample = {'edge_index': self.edge_index[index,:,:], #self.graph_info[index,3]],\n",
        "                'x': self.x[index,:,:], #int(self.graph_info[index,2]),:],\n",
        "                'edge_attr': self.edge_attr[index,:], #self.graph_info[index,3]],\n",
        "                'hams': self.hamiltonians[index,:,:,:],\n",
        "                'y': self.y[index]  }\n",
        "\n",
        "        if self.transform is not None:\n",
        "            sample = self.transform(sample)\n",
        "\n",
        "        return sample"
      ],
      "id": "98e1abc0"
    },
    {
      "cell_type": "code",
      "execution_count": 12,
      "metadata": {
        "colab": {
          "base_uri": "https://localhost:8080/"
        },
        "id": "6595d28a",
        "outputId": "630c6e46-d70e-45e8-ca1b-5e05b2027b4f"
      },
      "outputs": [
        {
          "output_type": "stream",
          "name": "stderr",
          "text": [
            "100%|██████████| 12500/12500 [00:01<00:00, 9814.07it/s] "
          ]
        },
        {
          "output_type": "stream",
          "name": "stdout",
          "text": [
            "Number of training graphs: 10000\n",
            "Number of validation graphs: 1250\n",
            "Number of test graphs: 1250\n"
          ]
        },
        {
          "output_type": "stream",
          "name": "stderr",
          "text": [
            "\n"
          ]
        }
      ],
      "source": [
        "train_index   = int(N*0.8)\n",
        "val_index    = int(N*0.9)\n",
        "batch_size = 1\n",
        "\n",
        "# Create Datasets for Torch for the training and testing pahses\n",
        "dataset = []\n",
        "for i in tqdm(range(N)):\n",
        "    dataset.append(Data(edge_index=edge_indx_tensor[i,:,:int(graph_help[i,3])],\n",
        "                        x=x_data_proc[i,:int(graph_help[i,2]),:],\n",
        "                        edge_attr=edge_attr_matrix[i,:int(graph_help[i,3])],\n",
        "                        y=y_data_proc[i],\n",
        "                        pos = quantum_hamiltonians[i,:]))\n",
        "\n",
        "training_data = dataset[:train_index]\n",
        "val_data      = dataset[train_index:val_index]\n",
        "test_data     = dataset[val_index:]\n",
        "# Create data loaders\n",
        "train_quantum_dataloader = DataLoader(training_data,\n",
        "                              batch_size = batch_size,\n",
        "                              shuffle = True,\n",
        "                              num_workers = 0)\n",
        "\n",
        "val_quantum_dataloader  = DataLoader(val_data,\n",
        "                              batch_size = batch_size,\n",
        "                              shuffle = False,\n",
        "                              num_workers = 0)\n",
        "\n",
        "test_quantum_dataloader  = DataLoader(test_data,\n",
        "                              batch_size = batch_size,\n",
        "                              shuffle = False,\n",
        "                              num_workers = 0)\n",
        "\n",
        "print(f'Number of training graphs: {train_index}')\n",
        "print(f'Number of validation graphs: {val_index-train_index}')\n",
        "print(f'Number of test graphs: {N-val_index}')"
      ],
      "id": "6595d28a"
    },
    {
      "cell_type": "code",
      "execution_count": 13,
      "metadata": {
        "colab": {
          "base_uri": "https://localhost:8080/"
        },
        "id": "e13f2422",
        "outputId": "7f5ab782-29c4-4a40-c167-e1d367c59ff1"
      },
      "outputs": [
        {
          "output_type": "stream",
          "name": "stdout",
          "text": [
            "Using cpu device\n"
          ]
        }
      ],
      "source": [
        "# Get cpu or gpu device for training.\n",
        "device = \"cuda\" if torch.cuda.is_available() else \"cpu\"\n",
        "print(f\"Using {device} device\")"
      ],
      "id": "e13f2422"
    },
    {
      "cell_type": "markdown",
      "metadata": {
        "id": "95f0cacf"
      },
      "source": [
        "# Permutation Equivariant Quantum Graph Neural Network (EQGNN)"
      ],
      "id": "95f0cacf"
    },
    {
      "cell_type": "code",
      "execution_count": 14,
      "metadata": {
        "id": "85bf4c82"
      },
      "outputs": [],
      "source": [
        "# number of qubits\n",
        "qubit_number = nodes_per_graph # M*2\n",
        "qubits = range(qubit_number)"
      ],
      "id": "85bf4c82"
    },
    {
      "cell_type": "code",
      "execution_count": 15,
      "metadata": {
        "id": "71d3a02a"
      },
      "outputs": [],
      "source": [
        "reg1 = copy.copy([i for i in range(nodes_per_graph) ])  # load original graph"
      ],
      "id": "71d3a02a"
    },
    {
      "cell_type": "code",
      "execution_count": 16,
      "metadata": {
        "colab": {
          "base_uri": "https://localhost:8080/"
        },
        "id": "784cf491-3af4-461c-ac64-4a74aabb77de",
        "outputId": "6f83f3be-b45d-4a96-88b5-dbb51625f49c"
      },
      "outputs": [
        {
          "output_type": "execute_result",
          "data": {
            "text/plain": [
              "3"
            ]
          },
          "metadata": {},
          "execution_count": 16
        }
      ],
      "source": [
        "qubit_number"
      ],
      "id": "784cf491-3af4-461c-ac64-4a74aabb77de"
    },
    {
      "cell_type": "markdown",
      "metadata": {
        "id": "4l3Gg6iSKyBJ"
      },
      "source": [
        "## EQGNN Layers"
      ],
      "id": "4l3Gg6iSKyBJ"
    },
    {
      "cell_type": "code",
      "execution_count": 17,
      "metadata": {
        "id": "kkMf05NdKwin"
      },
      "outputs": [],
      "source": [
        "def state_evolve(hamiltonian, qubits, eta, q):\n",
        "    U = torch.linalg.matrix_exp(-1j * eta * hamiltonian).cfloat()\n",
        "    U = q@U@q.T.conj()\n",
        "    qml.QubitUnitary(U, wires=qubits)\n",
        "\n",
        "def qgcnn(inputs,weights):\n",
        "    # ham_matrix1, ham_matrix2, tham_matrix1, tham_matrix2 = form_hamiltonians(graph1 = graphs[0], graph2 = graphs[1])\n",
        "    # Prepares the low energy state in the two registers\n",
        "    embedding_features = int(2**qubit_number)\n",
        "    low_energy_state = inputs[1,:embedding_features]\n",
        "    constant = torch.tensor([1.]).cfloat().to(device)\n",
        "    qml.QubitStateVector(torch.kron(low_energy_state,constant), wires=reg1)\n",
        "    # Evolves the first qubit register with the time-evolution circuit to\n",
        "    # prepare a piece of quantum data\n",
        "    inputs = inputs[0,:].reshape(batch_size,2,embedding_features,embedding_features)\n",
        "    if batch_size==1:\n",
        "        inputs = inputs.reshape(2,embedding_features,embedding_features)\n",
        "        coeffs = weights[:,:int(n_layers*2)].reshape(n_layers,2)\n",
        "        As = weights[:,int(n_layers*2):].reshape(n_layers,2,embedding_features,embedding_features)\n",
        "\n",
        "    for j in range(coeffs.shape[0]):\n",
        "      A = As[j,0,:,:].cfloat() + 1j*As[j,1,:,:].cfloat()\n",
        "      I = torch.eye(A.shape[0],dtype = torch.cfloat).to(device)\n",
        "      A = A + A.T.conj()\n",
        "      q = (A - 1j*I)@torch.linalg.inv(A + 1j*I)\n",
        "      if batch_size==1:\n",
        "          state_evolve(inputs[0,:,:],  reg1, coeffs[j,0], q )\n",
        "          state_evolve(inputs[1,:,:],  reg1, coeffs[j,1], q )\n",
        "      else:\n",
        "          state_evolve(inputs[:,0,:,:],  reg1, coeffs[j,0], q )\n",
        "          state_evolve(inputs[:,1,:,:],  reg1, coeffs[j,1], q )\n",
        "\n",
        "    return [qml.state()] # For density matrix [ qml.density_matrix(wires=[i for i in range(qubit_number) ]) ]\n",
        "\n",
        "# Define a custom complex activation function (nn.Module)\n",
        "class complex_activation(nn.Module):\n",
        "    def forward(self, x):\n",
        "        return nn.ReLU()(x.real) + 1.j * nn.ReLU()(x.imag)\n",
        "\n",
        "qgcnn_dev = qml.device('default.qubit', wires=qubit_number)#, shots=shots)\n",
        "# Defines the new QNode\n",
        "qgcnn_qnode = qml.QNode(qgcnn,\n",
        "                        device=qgcnn_dev,\n",
        "                        interface = 'torch', #,#interface='torch', #interface = 'autograd'\n",
        "                        diff_method='backprop')\n",
        "\n",
        "\n",
        "class eigs_fn_torch(nn.Module):\n",
        "    def forward(self, inputs, qstates_comp_basis):\n",
        "        # Compute rotation matrices and eigenvalues\n",
        "        qstates_comp_basis = qstates_comp_basis.flatten().cfloat()\n",
        "        qstates_density_matrix =  qstates_comp_basis@qstates_comp_basis.T\n",
        "        q,r = torch.linalg.qr(qstates_density_matrix)\n",
        "        coupling_ham = (inputs[0].reshape(2,int(2**nodes_per_graph),int(2**nodes_per_graph)) )[0,:,:].cfloat()\n",
        "        rotUC1 = q @ torch.linalg.matrix_exp( -1j * coupling_ham )\n",
        "        UC1eigs = torch.linalg.eigvals(rotUC1)\n",
        "        return qstates_comp_basis.reshape(1,qstates_comp_basis.shape[0]) #UC1eigs.reshape(1,UC1eigs.shape[0])\n",
        "\n",
        "# Does not work because of pytorch: raises an error due to nonunique solution with phase factor e^{i phi}\n",
        "class eigenvalue_decomposition(nn.Module):\n",
        "    def forward(self, density_matrix):\n",
        "        density_matrix = density_matrix.flatten().reshape(nodes_per_graph,2,2).cfloat()\n",
        "        L,V = torch.linalg.eigh(density_matrix)\n",
        "        V = V.sum(axis=0)/2**nodes_per_graph\n",
        "        return V.flatten().reshape(1,V.shape[0]**2)\n",
        "\n",
        "class qr_decomposition(nn.Module):\n",
        "    def forward(self, density_matrix):\n",
        "        density_matrix = density_matrix.flatten().reshape(nodes_per_graph,2,2).cfloat()\n",
        "        Q,R = torch.linalg.qr(density_matrix)\n",
        "        Q = Q.sum(axis=0)/2**nodes_per_graph\n",
        "        return Q.flatten().reshape(1,Q.shape[0]**2)\n",
        "\n",
        "class product_state(nn.Module):\n",
        "    def forward(self, qstates_comp_basis):\n",
        "        qstates_comp_basis = qstates_comp_basis.flatten().cfloat()\n",
        "        return qstates_comp_basis.reshape(1,qstates_comp_basis.shape[0])\n",
        "\n",
        "class construct_low_energy_state(nn.Module):\n",
        "    def forward(self, encoded_state):\n",
        "        term = torch.tensor([1.]).cfloat().to(device)\n",
        "        for i in range(encoded_state.shape[0]):\n",
        "            term = torch.kron(encoded_state[i,:],term)\n",
        "        normalize_factor = torch.sqrt(torch.abs(torch.conj(term)@term))\n",
        "        term = term/normalize_factor\n",
        "        return term"
      ],
      "id": "kkMf05NdKwin"
    },
    {
      "cell_type": "markdown",
      "metadata": {
        "id": "B4NQSo69K2Dv"
      },
      "source": [
        "## EQGNN Model"
      ],
      "id": "B4NQSo69K2Dv"
    },
    {
      "cell_type": "code",
      "execution_count": 18,
      "metadata": {
        "id": "f61fbcac"
      },
      "outputs": [],
      "source": [
        "class quantum_iso_model(torch.nn.Module):\n",
        "    def __init__(self, weight_shapes):\n",
        "        super().__init__()\n",
        "        # self.weights = torch.nn.Parameter(torch.randn(n_layers, gamma_and_eta))\n",
        "        # self.transform = torch.nn.Identity()\n",
        "        self.encoder = nn.Sequential( nn.Linear(x_data_proc.shape[2], 16, dtype=torch.cfloat),\n",
        "                                      complex_activation(),\n",
        "                                      nn.Linear(16, 16, dtype=torch.cfloat),\n",
        "                                      complex_activation(),\n",
        "                                      nn.Linear(16, 2, dtype=torch.cfloat) )\n",
        "\n",
        "        self.qlayer = qml.qnn.TorchLayer(qgcnn_qnode, weight_shapes)\n",
        "        self.eigs   = eigs_fn_torch()\n",
        "        self.product_state = product_state()\n",
        "        # self.eigenvalue_decomposition = eigenvalue_decomposition()\n",
        "        # self.qr_decomposition = qr_decomposition()\n",
        "        self.state  = construct_low_energy_state()\n",
        "\n",
        "        self.decoder = nn.Sequential( nn.Linear(1, 6*2**qubit_number, dtype=torch.cfloat),\n",
        "                                      complex_activation(),\n",
        "                                      nn.Linear(6*2**qubit_number, 4*2**qubit_number, dtype=torch.cfloat),\n",
        "                                      complex_activation(),\n",
        "                                      nn.Linear(4*2**qubit_number, 2, dtype=torch.cfloat) )\n",
        "\n",
        "    def forward(self, inputs, features):\n",
        "        embedding = self.encoder(features)\n",
        "        initial_state = self.state(embedding)\n",
        "        initial_state = nn.functional.pad(initial_state, (0,inputs.shape[1]-initial_state.shape[0]), mode='constant', value=0)\n",
        "        x = self.qlayer(torch.vstack([inputs,initial_state]))\n",
        "        x = self.product_state(x).sum(axis=1)/x.shape[1] # sum provides permutation equivariance\n",
        "        x = x.reshape(1,1)\n",
        "        # x = self.eigenvalue_decomposition(x)\n",
        "        # x = self.qr_decomposition(x)\n",
        "        h = self.decoder(x)\n",
        "        return (h*h.conj()).real"
      ],
      "id": "f61fbcac"
    },
    {
      "cell_type": "markdown",
      "metadata": {
        "id": "zXsuznrXJhD0"
      },
      "source": [
        "## EQGNN Training Function"
      ],
      "id": "zXsuznrXJhD0"
    },
    {
      "cell_type": "code",
      "execution_count": 19,
      "metadata": {
        "id": "OHLv6mPqJe9g"
      },
      "outputs": [],
      "source": [
        "def quantum_training(train_dataloader,\n",
        "                     val_dataloader,\n",
        "                     epochs,\n",
        "                     loss_fn,\n",
        "                     model,\n",
        "                     optimizer):\n",
        "\n",
        "    size = len(train_dataloader)\n",
        "    history = { 'train_loss':[],'train_acc':[],'val_loss':[],'val_acc':[]}\n",
        "\n",
        "    best_train_loss = torch.inf\n",
        "    best_val_loss = torch.inf\n",
        "    best_model = None\n",
        "    best_train_acc = 0.\n",
        "    best_val_acc = 0.\n",
        "    best_auc = 0.\n",
        "    best_epoch = 0\n",
        "    count = 0\n",
        "    current_val_loss = 0\n",
        "    best_auc = 0\n",
        "    size_val = len(val_dataloader)\n",
        "    first_idx = torch.arange(0,size_val)\n",
        "    start = time()\n",
        "    for epoch in tqdm(range(epochs)):\n",
        "        train_loss, train_acc, _ , _ = train(model, optimizer, epoch, train_dataloader, backprop=True)\n",
        "        val_loss, val_acc, val_label, val_pred = train(model, optimizer, epoch, val_dataloader, backprop=False)\n",
        "\n",
        "        y_score = val_pred[(first_idx,val_label.astype('int32'))]\n",
        "        auc_score = roc_auc_score(val_label, y_score)\n",
        "\n",
        "        history['train_loss'].append(train_loss)\n",
        "        history['train_acc'].append(train_acc)\n",
        "        history['val_loss'].append(val_loss)\n",
        "        history['val_acc'].append(val_acc)\n",
        "        print('\\n')\n",
        "\n",
        "        if val_loss <= best_val_loss:\n",
        "          best_train_loss = train_loss\n",
        "          best_val_loss = val_loss\n",
        "          best_train_acc = train_acc\n",
        "          best_val_acc = val_acc\n",
        "\n",
        "        if best_auc <= auc_score and epoch>=15:\n",
        "          # best_model = copy.deepcopy(model)\n",
        "          # best_model_wts = copy.deepcopy(model.state_dict())\n",
        "          best_auc = auc_score\n",
        "          print(f'Rerun and stop at epoch {epoch} to attain the best classifier.')\n",
        "\n",
        "          # best_model = copy.deepcopy(model)\n",
        "          # best_model_wts = copy.deepcopy(model.state_dict())\n",
        "          # if current_val_loss>best_val_loss:\n",
        "          #   count=0\n",
        "          # if count==0:\n",
        "          #   best_auc = auc_score\n",
        "          #   current_val_loss = best_val_loss\n",
        "          #   count+=1\n",
        "\n",
        "\n",
        "\n",
        "        if epoch % 1 == 0 or epoch==epochs-1: #args.test_interval == 0:\n",
        "          print(\"Epoch: %d |  Best Train Loss: %.8f | Best Val Loss: %.8f | Best Train Acc: %.8f | Best Val Acc: %.8f\" % (epoch, best_train_loss, best_val_loss, best_train_acc, best_val_acc))\n",
        "          print('Epoch: %d |  VAL AUC: %.8f \\n' % (epoch, auc_score))\n",
        "\n",
        "    end = time()\n",
        "    print(f'Training Complete. Total Time (s): {end-start}')\n",
        "    return {'model': best_model, 'history': history}\n",
        "\n",
        "\n",
        "def train(model, optimizer, epoch, loader, backprop=True):\n",
        "    size = len(loader)\n",
        "    num_correct = 0\n",
        "    running_loss = 0.\n",
        "    loss_list = []\n",
        "    if backprop:\n",
        "        model.train()\n",
        "    else:\n",
        "        model.eval()\n",
        "    all_labels = np.zeros((size,))\n",
        "    all_labels_pred = np.zeros((size,2))\n",
        "    for batch_idx, data in enumerate(loader):\n",
        "        if batch_idx==0:\n",
        "            node_size, n_feat = data[0].x.size()\n",
        "        batch_size = data.x.shape[0]//node_size\n",
        "        inputs = data.pos.reshape(batch_size,2*int(2**node_size)*int(2**node_size)).to(device)\n",
        "        initial_node_features = data.x.cfloat().to(device)\n",
        "        labels = data.y.long().reshape(batch_size,).to(device)\n",
        "\n",
        "        labels_pred = model(inputs,initial_node_features)\n",
        "        loss = loss_fn(labels_pred,labels)\n",
        "        loss_list.append(loss.item())\n",
        "        optimizer.zero_grad()\n",
        "        if backprop:\n",
        "            loss.backward()\n",
        "            optimizer.step()\n",
        "        else:\n",
        "          all_labels[batch_idx] = labels\n",
        "          all_labels_pred[batch_idx] = labels_pred.detach().cpu()\n",
        "        num_correct += (labels_pred.argmax(dim=1)==labels).sum().int()\n",
        "        running_loss += loss.item()*batch_size\n",
        "\n",
        "    accuracy = num_correct / size\n",
        "    running_loss = running_loss/size\n",
        "\n",
        "    return running_loss, accuracy, all_labels, all_labels_pred"
      ],
      "id": "OHLv6mPqJe9g"
    },
    {
      "cell_type": "code",
      "execution_count": 20,
      "metadata": {
        "id": "5b58fda2-c65c-480c-950a-a7649d2b0a0c"
      },
      "outputs": [],
      "source": [
        "seed = 3\n",
        "torch.manual_seed(seed)\n",
        "epochs = 19\n",
        "embedding_size = 2**qubit_number\n",
        "n_layers = 6\n",
        "matrix_params =  n_layers*embedding_size*embedding_size*2\n",
        "weight_shapes = {\"weights\": (1, n_layers*2 + matrix_params)}\n",
        "model = quantum_iso_model(weight_shapes).to(device)\n",
        "lr = 1e-3\n",
        "optimizer = torch.optim.Adam(model.parameters(), lr=lr)\n",
        "loss_fn = torch.nn.CrossEntropyLoss()\n",
        "# print(qml.draw(qgcnn)(train_quantum_hamiltonians[0,:,:,:].flatten().cpu(), model.weights.cpu()))"
      ],
      "id": "5b58fda2-c65c-480c-950a-a7649d2b0a0c"
    },
    {
      "cell_type": "code",
      "execution_count": 21,
      "metadata": {
        "id": "d3b9bb0a-2232-4735-a86b-48f8f53168b8"
      },
      "outputs": [],
      "source": [
        "count = 0\n",
        "for i,param in enumerate(model.parameters()):\n",
        "    if param.dtype==torch.complex64:\n",
        "        count+=torch.view_as_real(param).flatten().shape[0]\n",
        "    else:\n",
        "        count+=param.flatten().shape[0]"
      ],
      "id": "d3b9bb0a-2232-4735-a86b-48f8f53168b8"
    },
    {
      "cell_type": "code",
      "execution_count": 22,
      "metadata": {
        "colab": {
          "base_uri": "https://localhost:8080/"
        },
        "id": "3e0886dd-ab7b-46dc-9387-cd9223b5915d",
        "outputId": "5ffa397d-30ac-4857-c7cb-753afd7e0013"
      },
      "outputs": [
        {
          "output_type": "stream",
          "name": "stdout",
          "text": [
            "5140\n"
          ]
        }
      ],
      "source": [
        "print(count)"
      ],
      "id": "3e0886dd-ab7b-46dc-9387-cd9223b5915d"
    },
    {
      "cell_type": "code",
      "execution_count": 23,
      "metadata": {
        "colab": {
          "base_uri": "https://localhost:8080/"
        },
        "id": "472db952-3dcb-4d43-90f7-b016739c9568",
        "outputId": "07fe0557-2c65-4daa-ce90-07af27bc1065"
      },
      "outputs": [
        {
          "output_type": "execute_result",
          "data": {
            "text/plain": [
              "10000"
            ]
          },
          "metadata": {},
          "execution_count": 23
        }
      ],
      "source": [
        "len(train_quantum_dataloader)"
      ],
      "id": "472db952-3dcb-4d43-90f7-b016739c9568"
    },
    {
      "cell_type": "code",
      "execution_count": 24,
      "metadata": {
        "colab": {
          "base_uri": "https://localhost:8080/"
        },
        "id": "723e8a87-e016-4f81-9786-1c8d913a6166",
        "outputId": "5bcb3016-5304-4908-cbdd-b33998b77baf",
        "scrolled": true
      },
      "outputs": [
        {
          "output_type": "stream",
          "name": "stderr",
          "text": [
            "  5%|▌         | 1/19 [09:02<2:42:36, 542.01s/it]"
          ]
        },
        {
          "output_type": "stream",
          "name": "stdout",
          "text": [
            "\n",
            "\n",
            "Epoch: 0 |  Best Train Loss: 0.59786697 | Best Val Loss: 0.58968716 | Best Train Acc: 0.68470000 | Best Val Acc: 0.69920000\n",
            "Epoch: 0 |  VAL AUC: 0.22342736 \n",
            "\n"
          ]
        },
        {
          "output_type": "stream",
          "name": "stderr",
          "text": [
            "\r 11%|█         | 2/19 [18:07<2:34:07, 543.96s/it]"
          ]
        },
        {
          "output_type": "stream",
          "name": "stdout",
          "text": [
            "\n",
            "\n",
            "Epoch: 1 |  Best Train Loss: 0.55231741 | Best Val Loss: 0.54146681 | Best Train Acc: 0.72770000 | Best Val Acc: 0.73440000\n",
            "Epoch: 1 |  VAL AUC: 0.48391933 \n",
            "\n"
          ]
        },
        {
          "output_type": "stream",
          "name": "stderr",
          "text": [
            "\r 16%|█▌        | 3/19 [27:22<2:26:22, 548.88s/it]"
          ]
        },
        {
          "output_type": "stream",
          "name": "stdout",
          "text": [
            "\n",
            "\n",
            "Epoch: 2 |  Best Train Loss: 0.55231741 | Best Val Loss: 0.54146681 | Best Train Acc: 0.72770000 | Best Val Acc: 0.73440000\n",
            "Epoch: 2 |  VAL AUC: 0.73169360 \n",
            "\n"
          ]
        },
        {
          "output_type": "stream",
          "name": "stderr",
          "text": [
            "\r 21%|██        | 4/19 [36:29<2:17:02, 548.17s/it]"
          ]
        },
        {
          "output_type": "stream",
          "name": "stdout",
          "text": [
            "\n",
            "\n",
            "Epoch: 3 |  Best Train Loss: 0.55231741 | Best Val Loss: 0.54146681 | Best Train Acc: 0.72770000 | Best Val Acc: 0.73440000\n",
            "Epoch: 3 |  VAL AUC: 0.57573883 \n",
            "\n"
          ]
        },
        {
          "output_type": "stream",
          "name": "stderr",
          "text": [
            "\r 26%|██▋       | 5/19 [45:30<2:07:19, 545.69s/it]"
          ]
        },
        {
          "output_type": "stream",
          "name": "stdout",
          "text": [
            "\n",
            "\n",
            "Epoch: 4 |  Best Train Loss: 0.54258927 | Best Val Loss: 0.54114673 | Best Train Acc: 0.73130000 | Best Val Acc: 0.73200000\n",
            "Epoch: 4 |  VAL AUC: 0.50738314 \n",
            "\n"
          ]
        },
        {
          "output_type": "stream",
          "name": "stderr",
          "text": [
            "\r 32%|███▏      | 6/19 [54:29<1:57:46, 543.58s/it]"
          ]
        },
        {
          "output_type": "stream",
          "name": "stdout",
          "text": [
            "\n",
            "\n",
            "Epoch: 5 |  Best Train Loss: 0.54258927 | Best Val Loss: 0.54114673 | Best Train Acc: 0.73130000 | Best Val Acc: 0.73200000\n",
            "Epoch: 5 |  VAL AUC: 0.67999363 \n",
            "\n"
          ]
        },
        {
          "output_type": "stream",
          "name": "stderr",
          "text": [
            "\r 37%|███▋      | 7/19 [1:03:17<1:47:40, 538.41s/it]"
          ]
        },
        {
          "output_type": "stream",
          "name": "stdout",
          "text": [
            "\n",
            "\n",
            "Epoch: 6 |  Best Train Loss: 0.54258927 | Best Val Loss: 0.54114673 | Best Train Acc: 0.73130000 | Best Val Acc: 0.73200000\n",
            "Epoch: 6 |  VAL AUC: 0.72722162 \n",
            "\n"
          ]
        },
        {
          "output_type": "stream",
          "name": "stderr",
          "text": [
            "\r 42%|████▏     | 8/19 [1:12:17<1:38:46, 538.78s/it]"
          ]
        },
        {
          "output_type": "stream",
          "name": "stdout",
          "text": [
            "\n",
            "\n",
            "Epoch: 7 |  Best Train Loss: 0.54258927 | Best Val Loss: 0.54114673 | Best Train Acc: 0.73130000 | Best Val Acc: 0.73200000\n",
            "Epoch: 7 |  VAL AUC: 0.43940996 \n",
            "\n"
          ]
        },
        {
          "output_type": "stream",
          "name": "stderr",
          "text": [
            "\r 47%|████▋     | 9/19 [1:21:12<1:29:37, 537.76s/it]"
          ]
        },
        {
          "output_type": "stream",
          "name": "stdout",
          "text": [
            "\n",
            "\n",
            "Epoch: 8 |  Best Train Loss: 0.54258927 | Best Val Loss: 0.54114673 | Best Train Acc: 0.73130000 | Best Val Acc: 0.73200000\n",
            "Epoch: 8 |  VAL AUC: 0.63668056 \n",
            "\n"
          ]
        },
        {
          "output_type": "stream",
          "name": "stderr",
          "text": [
            "\r 53%|█████▎    | 10/19 [1:30:07<1:20:30, 536.74s/it]"
          ]
        },
        {
          "output_type": "stream",
          "name": "stdout",
          "text": [
            "\n",
            "\n",
            "Epoch: 9 |  Best Train Loss: 0.54258927 | Best Val Loss: 0.54114673 | Best Train Acc: 0.73130000 | Best Val Acc: 0.73200000\n",
            "Epoch: 9 |  VAL AUC: 0.40036351 \n",
            "\n"
          ]
        },
        {
          "output_type": "stream",
          "name": "stderr",
          "text": [
            "\r 58%|█████▊    | 11/19 [1:39:03<1:11:33, 536.69s/it]"
          ]
        },
        {
          "output_type": "stream",
          "name": "stdout",
          "text": [
            "\n",
            "\n",
            "Epoch: 10 |  Best Train Loss: 0.54258927 | Best Val Loss: 0.54114673 | Best Train Acc: 0.73130000 | Best Val Acc: 0.73200000\n",
            "Epoch: 10 |  VAL AUC: 0.38502731 \n",
            "\n"
          ]
        },
        {
          "output_type": "stream",
          "name": "stderr",
          "text": [
            "\r 63%|██████▎   | 12/19 [1:47:55<1:02:26, 535.15s/it]"
          ]
        },
        {
          "output_type": "stream",
          "name": "stdout",
          "text": [
            "\n",
            "\n",
            "Epoch: 11 |  Best Train Loss: 0.54258927 | Best Val Loss: 0.54114673 | Best Train Acc: 0.73130000 | Best Val Acc: 0.73200000\n",
            "Epoch: 11 |  VAL AUC: 0.42347562 \n",
            "\n"
          ]
        },
        {
          "output_type": "stream",
          "name": "stderr",
          "text": [
            "\r 68%|██████▊   | 13/19 [1:56:44<53:19, 533.32s/it]  "
          ]
        },
        {
          "output_type": "stream",
          "name": "stdout",
          "text": [
            "\n",
            "\n",
            "Epoch: 12 |  Best Train Loss: 0.52925703 | Best Val Loss: 0.53854823 | Best Train Acc: 0.74290000 | Best Val Acc: 0.73120000\n",
            "Epoch: 12 |  VAL AUC: 0.57199591 \n",
            "\n"
          ]
        },
        {
          "output_type": "stream",
          "name": "stderr",
          "text": [
            "\r 74%|███████▎  | 14/19 [2:05:43<44:35, 535.16s/it]"
          ]
        },
        {
          "output_type": "stream",
          "name": "stdout",
          "text": [
            "\n",
            "\n",
            "Epoch: 13 |  Best Train Loss: 0.52925703 | Best Val Loss: 0.53854823 | Best Train Acc: 0.74290000 | Best Val Acc: 0.73120000\n",
            "Epoch: 13 |  VAL AUC: 0.40948975 \n",
            "\n"
          ]
        },
        {
          "output_type": "stream",
          "name": "stderr",
          "text": [
            "\r 79%|███████▉  | 15/19 [2:15:30<36:42, 550.73s/it]"
          ]
        },
        {
          "output_type": "stream",
          "name": "stdout",
          "text": [
            "\n",
            "\n",
            "Epoch: 14 |  Best Train Loss: 0.52925703 | Best Val Loss: 0.53854823 | Best Train Acc: 0.74290000 | Best Val Acc: 0.73120000\n",
            "Epoch: 14 |  VAL AUC: 0.43538980 \n",
            "\n"
          ]
        },
        {
          "output_type": "stream",
          "name": "stderr",
          "text": [
            "\r 84%|████████▍ | 16/19 [2:25:02<27:51, 557.13s/it]"
          ]
        },
        {
          "output_type": "stream",
          "name": "stdout",
          "text": [
            "\n",
            "\n",
            "Rerun and stop at epoch 15 to attain the best classifier.\n",
            "Epoch: 15 |  Best Train Loss: 0.52925703 | Best Val Loss: 0.53854823 | Best Train Acc: 0.74290000 | Best Val Acc: 0.73120000\n",
            "Epoch: 15 |  VAL AUC: 0.59484618 \n",
            "\n"
          ]
        },
        {
          "output_type": "stream",
          "name": "stderr",
          "text": [
            "\r 89%|████████▉ | 17/19 [2:34:22<18:35, 557.77s/it]"
          ]
        },
        {
          "output_type": "stream",
          "name": "stdout",
          "text": [
            "\n",
            "\n",
            "Rerun and stop at epoch 16 to attain the best classifier.\n",
            "Epoch: 16 |  Best Train Loss: 0.52626180 | Best Val Loss: 0.53842890 | Best Train Acc: 0.74420000 | Best Val Acc: 0.72560000\n",
            "Epoch: 16 |  VAL AUC: 0.61043139 \n",
            "\n"
          ]
        },
        {
          "output_type": "stream",
          "name": "stderr",
          "text": [
            "\r 95%|█████████▍| 18/19 [2:43:32<09:15, 555.61s/it]"
          ]
        },
        {
          "output_type": "stream",
          "name": "stdout",
          "text": [
            "\n",
            "\n",
            "Rerun and stop at epoch 17 to attain the best classifier.\n",
            "Epoch: 17 |  Best Train Loss: 0.52626180 | Best Val Loss: 0.53842890 | Best Train Acc: 0.74420000 | Best Val Acc: 0.72560000\n",
            "Epoch: 17 |  VAL AUC: 0.64556293 \n",
            "\n"
          ]
        },
        {
          "output_type": "stream",
          "name": "stderr",
          "text": [
            "100%|██████████| 19/19 [2:52:43<00:00, 545.46s/it]"
          ]
        },
        {
          "output_type": "stream",
          "name": "stdout",
          "text": [
            "\n",
            "\n",
            "Rerun and stop at epoch 18 to attain the best classifier.\n",
            "Epoch: 18 |  Best Train Loss: 0.52626180 | Best Val Loss: 0.53842890 | Best Train Acc: 0.74420000 | Best Val Acc: 0.72560000\n",
            "Epoch: 18 |  VAL AUC: 0.75863078 \n",
            "\n",
            "Training Complete. Total Time (s): 10363.745237827301\n"
          ]
        },
        {
          "output_type": "stream",
          "name": "stderr",
          "text": [
            "\n"
          ]
        }
      ],
      "source": [
        "eqgnn_model_and_history = quantum_training(train_quantum_dataloader,\n",
        "                             val_quantum_dataloader,\n",
        "                             epochs,\n",
        "                             loss_fn,\n",
        "                             model,\n",
        "                             optimizer)"
      ],
      "id": "723e8a87-e016-4f81-9786-1c8d913a6166"
    },
    {
      "cell_type": "markdown",
      "metadata": {
        "id": "44932143-020e-447b-81e8-038ba6e196bb"
      },
      "source": [
        "# Model Weights and Training History"
      ],
      "id": "44932143-020e-447b-81e8-038ba6e196bb"
    },
    {
      "cell_type": "code",
      "execution_count": 25,
      "metadata": {
        "id": "346a1a63-9bc5-49e9-a6e4-ea495d491ae9"
      },
      "outputs": [],
      "source": [
        "train_acc = []\n",
        "for i,val in enumerate(eqgnn_model_and_history['history']['train_acc']):\n",
        "    train_acc.append(val.cpu().detach().numpy())\n",
        "\n",
        "val_acc = []\n",
        "for i,val in enumerate(eqgnn_model_and_history['history']['val_acc']):\n",
        "    val_acc.append(val.cpu().detach().numpy())"
      ],
      "id": "346a1a63-9bc5-49e9-a6e4-ea495d491ae9"
    },
    {
      "cell_type": "code",
      "execution_count": 26,
      "metadata": {
        "colab": {
          "base_uri": "https://localhost:8080/",
          "height": 567
        },
        "id": "0f94e7ae",
        "outputId": "fce57cf2-280e-430d-87f4-ef36a1f7b45d"
      },
      "outputs": [
        {
          "output_type": "display_data",
          "data": {
            "text/plain": [
              "<Figure size 800x500 with 1 Axes>"
            ],
            "image/png": "[encoded data removed]"
          },
          "metadata": {}
        }
      ],
      "source": [
        "plt.figure(figsize=(8,5))\n",
        "plt.plot(eqgnn_model_and_history['history']['train_loss'],c='b',label=f'Train Loss ({train_index} jets)')\n",
        "plt.plot(eqgnn_model_and_history['history']['val_loss'],c='darkorange',label=f'Val Loss ({val_index-train_index} jets)')\n",
        "plt.plot(train_acc,c='cyan',label='Train Accuracy')\n",
        "plt.plot(val_acc,c='orangered',label='Val Accuracy')\n",
        "plt.title(f'EQGNN\\n $|\\Theta| = {count}$,  $N_h={embedding_size}$,  $P={n_layers}$', fontsize=25)\n",
        "plt.xlabel('Epoch',fontsize=25)\n",
        "plt.ylabel('Loss/Accuracy',fontsize=25)\n",
        "plt.legend(fontsize = 13, loc = 'lower right')\n",
        "plt.xticks(fontsize=13,ticks=[i for i in range(0,epochs,2)])\n",
        "plt.yticks(fontsize=14)\n",
        "plt.ylim([0.40,0.76])\n",
        "plt.savefig(plot_path+f'eqgnn_training_{count}_{embedding_size}_{n_layers}_{seed}.png',bbox_inches='tight')"
      ],
      "id": "0f94e7ae"
    },
    {
      "cell_type": "code",
      "execution_count": 27,
      "metadata": {
        "id": "0718161a-8b6c-4679-b213-a221fd6b6dc6"
      },
      "outputs": [],
      "source": [
        "model.eval()\n",
        "with torch.no_grad():\n",
        "    size = len(test_quantum_dataloader)\n",
        "    num_correct = 0\n",
        "    labels_all = None\n",
        "    for i,data in enumerate(test_quantum_dataloader):\n",
        "        if i==0:\n",
        "            node_size, n_feat = data[0].x.size()\n",
        "        batch_size = data.x.shape[0]//node_size\n",
        "        inputs = data.pos.reshape(batch_size,2*int(2**node_size)*int(2**node_size)).to(device)\n",
        "        labels = data.y.long().reshape(batch_size,).to(device)\n",
        "\n",
        "        labels_pred = model(inputs,data.x.cfloat().to(device))\n",
        "        num_correct += (labels_pred.argmax(dim=1)==labels).sum().int()\n",
        "\n",
        "        if labels_all is not None:\n",
        "            labels_all = torch.cat([labels_all,labels],dim=0)\n",
        "            labels_pred_all = torch.cat([labels_pred_all,labels_pred],dim=0)\n",
        "        else:\n",
        "            labels_all = copy.deepcopy(labels)\n",
        "            labels_pred_all = copy.deepcopy(labels_pred)"
      ],
      "id": "0718161a-8b6c-4679-b213-a221fd6b6dc6"
    },
    {
      "cell_type": "code",
      "execution_count": 28,
      "metadata": {
        "colab": {
          "base_uri": "https://localhost:8080/",
          "height": 365
        },
        "id": "3d4da7b9-161e-4429-9bf4-ad111c6dea3f",
        "outputId": "336d19ae-074f-4fb3-c143-12e4953ab482"
      },
      "outputs": [
        {
          "output_type": "display_data",
          "data": {
            "text/plain": [
              "<Figure size 400x300 with 2 Axes>"
            ],
            "image/png": "[encoded data removed]"
          },
          "metadata": {}
        },
        {
          "output_type": "stream",
          "name": "stdout",
          "text": [
            "Accuracy for EQGNN:  tensor(0.7096)\n"
          ]
        }
      ],
      "source": [
        "from sklearn.metrics import confusion_matrix\n",
        "# Calculate the confusion matrix\n",
        "conf_matrix = confusion_matrix(y_true=labels_all, y_pred=labels_pred_all.argmax(dim=1))\n",
        "# Print the confusion matrix using Matplotlib\n",
        "fig, ax = plt.subplots(figsize=(4, 3))\n",
        "im = ax.imshow(conf_matrix, cmap=plt.cm.Blues, alpha=0.3)\n",
        "for i in range(conf_matrix.shape[0]):\n",
        "    for j in range(conf_matrix.shape[1]):\n",
        "        ax.text(x=j, y=i,s=conf_matrix[i, j], va='center', ha='center', size='xx-large')\n",
        "plt.xlabel('Pred', fontsize=18)\n",
        "plt.ylabel('True', fontsize=18)\n",
        "plt.title('Confusion Matrix for EQGNN', fontsize=18)\n",
        "plt.xticks(ticks=[0,1],labels=['Gluon','Quark'])\n",
        "plt.yticks(ticks=[0,1],labels=['Gluon','Quark'])\n",
        "plt.colorbar(im)\n",
        "plt.show()\n",
        "\n",
        "size=labels_all.shape[0]\n",
        "num_correct = (labels_all==labels_pred_all.argmax(dim=1)).sum().int()\n",
        "print('Accuracy for EQGNN: ',num_correct/size)"
      ],
      "id": "3d4da7b9-161e-4429-9bf4-ad111c6dea3f"
    },
    {
      "cell_type": "code",
      "execution_count": 29,
      "metadata": {
        "id": "1fca400d-cd2f-49b4-84c9-fa1f06b8b5f0"
      },
      "outputs": [],
      "source": [
        "from sklearn.metrics import roc_curve, roc_auc_score\n",
        "first_idx = torch.arange(0,labels_pred_all.shape[0])\n",
        "y_score_eqgnn = labels_pred_all[(first_idx,labels_all.int())]\n",
        "fpr_eqgnn, tpr_eqgnn, thresholds = roc_curve(labels_all, y_score_eqgnn)\n",
        "auc_score_eqgnn = roc_auc_score(labels_all, y_score_eqgnn)"
      ],
      "id": "1fca400d-cd2f-49b4-84c9-fa1f06b8b5f0"
    },
    {
      "cell_type": "code",
      "execution_count": 30,
      "metadata": {
        "id": "9JP8i0wd8zMa"
      },
      "outputs": [],
      "source": [
        "np.save(plot_path+f'fpr_eqgnn_{count}_{embedding_size}_{n_layers}_{seed}.npy',fpr_eqgnn)\n",
        "np.save(plot_path+f'tpr_eqgnn_{count}_{embedding_size}_{n_layers}_{seed}.npy',tpr_eqgnn)\n",
        "np.save(plot_path+f'y_score_eqgnn_{count}_{embedding_size}_{n_layers}_{seed}.npy',y_score_eqgnn)\n",
        "np.save(plot_path+f'labels_all_eqgnn_{count}_{embedding_size}_{n_layers}_{seed}.npy',labels_all.numpy())"
      ],
      "id": "9JP8i0wd8zMa"
    },
    {
      "cell_type": "code",
      "execution_count": 31,
      "metadata": {
        "colab": {
          "base_uri": "https://localhost:8080/",
          "height": 447
        },
        "id": "50c4ea94-04b0-49d5-a9e3-f809282e8a85",
        "outputId": "e1c4e34d-aa6c-496e-8ccc-c4b37d93d64c"
      },
      "outputs": [
        {
          "output_type": "execute_result",
          "data": {
            "text/plain": [
              "<matplotlib.legend.Legend at 0x7824676a9630>"
            ]
          },
          "metadata": {},
          "execution_count": 31
        },
        {
          "output_type": "display_data",
          "data": {
            "text/plain": [
              "<Figure size 640x480 with 1 Axes>"
            ],
            "image/png": "[encoded data removed]"
          },
          "metadata": {}
        }
      ],
      "source": [
        "plt.plot(fpr_eqgnn,tpr_eqgnn,label = f'AUC Score: {100*auc_score_eqgnn:.3f}',c='b')\n",
        "plt.legend()"
      ],
      "id": "50c4ea94-04b0-49d5-a9e3-f809282e8a85"
    },
    {
      "cell_type": "code",
      "execution_count": 31,
      "metadata": {
        "id": "LhaT4k8Xr8S1"
      },
      "outputs": [],
      "source": [],
      "id": "LhaT4k8Xr8S1"
    }
  ],
  "metadata": {
    "accelerator": "TPU",
    "colab": {
      "machine_shape": "hm",
      "provenance": []
    },
    "kernelspec": {
      "display_name": "Python 3",
      "name": "python3"
    },
    "language_info": {
      "codemirror_mode": {
        "name": "ipython",
        "version": 3
      },
      "file_extension": ".py",
      "mimetype": "text/x-python",
      "name": "python",
      "nbconvert_exporter": "python",
      "pygments_lexer": "ipython3",
      "version": "3.11.3"
    }
  },
  "nbformat": 4,
  "nbformat_minor": 5
}